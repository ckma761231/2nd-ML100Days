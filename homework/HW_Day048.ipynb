{
 "cells": [
  {
   "cell_type": "code",
   "execution_count": 2,
   "metadata": {},
   "outputs": [],
   "source": [
    "from sklearn import datasets, linear_model, metrics\n",
    "from sklearn.metrics import mean_squared_error, r2_score, accuracy_score\n",
    "from sklearn.model_selection import train_test_split, KFold, GridSearchCV\n",
    "from sklearn.preprocessing import OneHotEncoder, LabelEncoder\n",
    "from sklearn.tree import DecisionTreeClassifier, DecisionTreeRegressor, export_graphviz\n",
    "from sklearn.ensemble import RandomForestClassifier, RandomForestRegressor, GradientBoostingClassifier, GradientBoostingRegressor\n",
    "from IPython.display import Image\n",
    "#import pydotplus \n",
    "import numpy as np\n",
    "import matplotlib.pyplot as plt\n",
    "import pandas as pd"
   ]
  },
  {
   "cell_type": "code",
   "execution_count": 4,
   "metadata": {},
   "outputs": [
    {
     "name": "stdout",
     "output_type": "stream",
     "text": [
      "(1000, 40)\n",
      "(1000, 1)\n",
      "\n",
      "(9000, 40)\n"
     ]
    }
   ],
   "source": [
    "train = pd.read_csv('train.csv',header=None)\n",
    "trainTarget= pd.read_csv('trainLabels.csv',header=None)\n",
    "\n",
    "test = pd.read_csv('test.csv',header=None)\n",
    "\n",
    "#dftest = dftest[~dftest.Coupon_id.isna()]\n",
    "#dftest.reset_index(drop=True, inplace=True)\n",
    "print(train.shape)\n",
    "print(trainTarget.shape)\n",
    "print()\n",
    "print(test.shape)"
   ]
  },
  {
   "cell_type": "code",
   "execution_count": 5,
   "metadata": {},
   "outputs": [],
   "source": [
    "x_train, x_test, y_train, y_test = train_test_split(train, trainTarget, test_size=0.1, random_state=4)"
   ]
  },
  {
   "cell_type": "code",
   "execution_count": 6,
   "metadata": {},
   "outputs": [
    {
     "name": "stderr",
     "output_type": "stream",
     "text": [
      "D:\\anaconda3\\lib\\site-packages\\sklearn\\utils\\validation.py:761: DataConversionWarning: A column-vector y was passed when a 1d array was expected. Please change the shape of y to (n_samples, ), for example using ravel().\n",
      "  y = column_or_1d(y, warn=True)\n"
     ]
    },
    {
     "data": {
      "text/plain": [
       "GradientBoostingClassifier(criterion='friedman_mse', init=None,\n",
       "              learning_rate=0.1, loss='deviance', max_depth=3,\n",
       "              max_features=None, max_leaf_nodes=None,\n",
       "              min_impurity_decrease=0.0, min_impurity_split=None,\n",
       "              min_samples_leaf=1, min_samples_split=2,\n",
       "              min_weight_fraction_leaf=0.0, n_estimators=100,\n",
       "              n_iter_no_change=None, presort='auto', random_state=None,\n",
       "              subsample=1.0, tol=0.0001, validation_fraction=0.1,\n",
       "              verbose=0, warm_start=False)"
      ]
     },
     "execution_count": 6,
     "metadata": {},
     "output_type": "execute_result"
    }
   ],
   "source": [
    "model = GradientBoostingClassifier()\n",
    "model.fit(x_train, y_train)"
   ]
  },
  {
   "cell_type": "code",
   "execution_count": 7,
   "metadata": {},
   "outputs": [
    {
     "name": "stdout",
     "output_type": "stream",
     "text": [
      "GradientBoostingClassifier:\n",
      "tree score: 0.87\n",
      "r2_score: 0.48\n",
      "accuracy_score: 0.87\n"
     ]
    }
   ],
   "source": [
    "y_pred = model.predict(x_test)  \n",
    "print('GradientBoostingClassifier:')              #GradientBoostingClassifier().fit(x_train, y_train)\n",
    "print('tree score:', model.score(x_test,y_test))  #GradientBoostingClassifier().score(x_test,y_test)\n",
    "print(\"r2_score: %.2f\"% r2_score(y_test, y_pred)) #GradientBoostingClassifier().r2_score(y_test, y_pred)\n",
    "print('accuracy_score: %.2f'% accuracy_score(y_test, y_pred)) #GradientBoostingClassifier().accuracy_score(y_test, y_pred)"
   ]
  },
  {
   "cell_type": "code",
   "execution_count": 19,
   "metadata": {},
   "outputs": [
    {
     "name": "stdout",
     "output_type": "stream",
     "text": [
      "[1 0 1 ... 1 0 1]\n"
     ]
    }
   ],
   "source": [
    "Y_test_predict = model.predict(test)\n",
    "print(Y_test_predict)"
   ]
  },
  {
   "cell_type": "code",
   "execution_count": 20,
   "metadata": {},
   "outputs": [
    {
     "name": "stdout",
     "output_type": "stream",
     "text": [
      "   Solution\n",
      "0         1\n",
      "1         0\n",
      "2         1\n",
      "3         0\n",
      "4         0\n"
     ]
    }
   ],
   "source": [
    "df = pd.DataFrame(Y_test_predict, columns=['Solution'])\n",
    "print(df.head())"
   ]
  },
  {
   "cell_type": "code",
   "execution_count": 21,
   "metadata": {},
   "outputs": [
    {
     "name": "stdout",
     "output_type": "stream",
     "text": [
      "   Solution  Id\n",
      "1         1   1\n",
      "2         0   2\n",
      "3         1   3\n",
      "4         0   4\n",
      "5         0   5\n"
     ]
    }
   ],
   "source": [
    "df.index += 1\n",
    "df['Id'] = df.index.values\n",
    "print(df.head())"
   ]
  },
  {
   "cell_type": "code",
   "execution_count": 22,
   "metadata": {},
   "outputs": [
    {
     "name": "stdout",
     "output_type": "stream",
     "text": [
      "      Solution    Id\n",
      "1            1     1\n",
      "2            0     2\n",
      "3            1     3\n",
      "4            0     4\n",
      "5            0     5\n",
      "6            0     6\n",
      "7            0     7\n",
      "8            1     8\n",
      "9            0     9\n",
      "10           0    10\n",
      "11           1    11\n",
      "12           1    12\n",
      "13           1    13\n",
      "14           0    14\n",
      "15           0    15\n",
      "16           1    16\n",
      "17           0    17\n",
      "18           1    18\n",
      "19           1    19\n",
      "20           1    20\n",
      "21           0    21\n",
      "22           1    22\n",
      "23           1    23\n",
      "24           0    24\n",
      "25           1    25\n",
      "26           1    26\n",
      "27           1    27\n",
      "28           0    28\n",
      "29           1    29\n",
      "30           0    30\n",
      "...        ...   ...\n",
      "8971         0  8971\n",
      "8972         0  8972\n",
      "8973         1  8973\n",
      "8974         1  8974\n",
      "8975         0  8975\n",
      "8976         1  8976\n",
      "8977         0  8977\n",
      "8978         1  8978\n",
      "8979         1  8979\n",
      "8980         1  8980\n",
      "8981         1  8981\n",
      "8982         1  8982\n",
      "8983         1  8983\n",
      "8984         0  8984\n",
      "8985         0  8985\n",
      "8986         1  8986\n",
      "8987         0  8987\n",
      "8988         0  8988\n",
      "8989         1  8989\n",
      "8990         0  8990\n",
      "8991         0  8991\n",
      "8992         1  8992\n",
      "8993         0  8993\n",
      "8994         1  8994\n",
      "8995         1  8995\n",
      "8996         1  8996\n",
      "8997         1  8997\n",
      "8998         1  8998\n",
      "8999         0  8999\n",
      "9000         1  9000\n",
      "\n",
      "[9000 rows x 2 columns]\n"
     ]
    }
   ],
   "source": [
    "print(df)\n",
    "df.to_csv('./Day_048_predict.csv', index=False)"
   ]
  },
  {
   "cell_type": "code",
   "execution_count": null,
   "metadata": {},
   "outputs": [],
   "source": []
  }
 ],
 "metadata": {
  "kernelspec": {
   "display_name": "Python 3",
   "language": "python",
   "name": "python3"
  }
 },
 "nbformat": 4,
 "nbformat_minor": 2
}
