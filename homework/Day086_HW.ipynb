{
 "cells": [
  {
   "cell_type": "markdown",
   "metadata": {},
   "source": [
    "## Work\n",
    "1. 試比較 save_best_only 與否的差異\n",
    "2. 請僅存入將 save_weights_only 設定為 True, 並嘗試 reset ipynb 並將模型與權重重新建回並預測 x_test"
   ]
  },
  {
   "cell_type": "code",
   "execution_count": 1,
   "metadata": {},
   "outputs": [
    {
     "name": "stderr",
     "output_type": "stream",
     "text": [
      "Using TensorFlow backend.\n"
     ]
    }
   ],
   "source": [
    "import os\n",
    "import keras\n",
    "\n",
    "# Disable GPU\n",
    "os.environ[\"CUDA_VISIBLE_DEVICES\"] = \"\""
   ]
  },
  {
   "cell_type": "code",
   "execution_count": 2,
   "metadata": {},
   "outputs": [],
   "source": [
    "train, test = keras.datasets.cifar10.load_data()"
   ]
  },
  {
   "cell_type": "code",
   "execution_count": 3,
   "metadata": {},
   "outputs": [],
   "source": [
    "## 資料前處理\n",
    "def preproc_x(x, flatten=True):\n",
    "    x = x / 255.\n",
    "    if flatten:\n",
    "        x = x.reshape((len(x), -1))\n",
    "    return x\n",
    "\n",
    "def preproc_y(y, num_classes=10):\n",
    "    if y.shape[-1] == 1:\n",
    "        y = keras.utils.to_categorical(y, num_classes)\n",
    "    return y    "
   ]
  },
  {
   "cell_type": "code",
   "execution_count": 4,
   "metadata": {},
   "outputs": [],
   "source": [
    "x_train, y_train = train\n",
    "x_test, y_test = test\n",
    "\n",
    "# Preproc the inputs\n",
    "x_train = preproc_x(x_train)\n",
    "x_test = preproc_x(x_test)\n",
    "\n",
    "# Preprc the outputs\n",
    "y_train = preproc_y(y_train)\n",
    "y_test = preproc_y(y_test)"
   ]
  },
  {
   "cell_type": "code",
   "execution_count": 5,
   "metadata": {},
   "outputs": [],
   "source": [
    "from keras.layers import BatchNormalization\n",
    "\n",
    "def build_mlp(input_shape, output_units=10, num_neurons=[512, 256, 128]):\n",
    "    input_layer = keras.layers.Input(input_shape)\n",
    "    for i, n_units in enumerate(num_neurons):\n",
    "        if i == 0:\n",
    "            x = keras.layers.Dense(units=n_units, activation=\"relu\", name=\"hidden_layer\"+str(i+1))(input_layer)\n",
    "            x = BatchNormalization()(x)\n",
    "        else:\n",
    "            x = keras.layers.Dense(units=n_units, activation=\"relu\", name=\"hidden_layer\"+str(i+1))(x)\n",
    "            x = BatchNormalization()(x)\n",
    "            \n",
    "    out = keras.layers.Dense(units=output_units, activation=\"softmax\", name=\"output\")(x)\n",
    "    model = keras.models.Model(inputs=[input_layer], outputs=[out])\n",
    "    \n",
    "    return model"
   ]
  },
  {
   "cell_type": "code",
   "execution_count": 6,
   "metadata": {},
   "outputs": [],
   "source": [
    "LEARNING_RATE = 1e-3\n",
    "EPOCHS = 50\n",
    "BATCH_SIZE = 1024\n",
    "MOMENTUM = 0.95"
   ]
  },
  {
   "cell_type": "code",
   "execution_count": 7,
   "metadata": {},
   "outputs": [
    {
     "name": "stdout",
     "output_type": "stream",
     "text": [
      "WARNING:tensorflow:From D:\\anaconda3\\lib\\site-packages\\tensorflow\\python\\framework\\op_def_library.py:263: colocate_with (from tensorflow.python.framework.ops) is deprecated and will be removed in a future version.\n",
      "Instructions for updating:\n",
      "Colocations handled automatically by placer.\n",
      "_________________________________________________________________\n",
      "Layer (type)                 Output Shape              Param #   \n",
      "=================================================================\n",
      "input_1 (InputLayer)         (None, 3072)              0         \n",
      "_________________________________________________________________\n",
      "hidden_layer1 (Dense)        (None, 512)               1573376   \n",
      "_________________________________________________________________\n",
      "batch_normalization_1 (Batch (None, 512)               2048      \n",
      "_________________________________________________________________\n",
      "hidden_layer2 (Dense)        (None, 256)               131328    \n",
      "_________________________________________________________________\n",
      "batch_normalization_2 (Batch (None, 256)               1024      \n",
      "_________________________________________________________________\n",
      "hidden_layer3 (Dense)        (None, 128)               32896     \n",
      "_________________________________________________________________\n",
      "batch_normalization_3 (Batch (None, 128)               512       \n",
      "_________________________________________________________________\n",
      "output (Dense)               (None, 10)                1290      \n",
      "=================================================================\n",
      "Total params: 1,742,474\n",
      "Trainable params: 1,740,682\n",
      "Non-trainable params: 1,792\n",
      "_________________________________________________________________\n",
      "WARNING:tensorflow:From D:\\anaconda3\\lib\\site-packages\\tensorflow\\python\\ops\\math_ops.py:3066: to_int32 (from tensorflow.python.ops.math_ops) is deprecated and will be removed in a future version.\n",
      "Instructions for updating:\n",
      "Use tf.cast instead.\n",
      "Train on 50000 samples, validate on 10000 samples\n",
      "Epoch 1/50\n",
      "50000/50000 [==============================] - 36s 722us/step - loss: 2.2251 - acc: 0.2669 - val_loss: 2.0836 - val_acc: 0.3134\n",
      "Epoch 2/50\n",
      "50000/50000 [==============================] - 23s 461us/step - loss: 1.7455 - acc: 0.3894 - val_loss: 1.8497 - val_acc: 0.3701\n",
      "Epoch 3/50\n",
      "50000/50000 [==============================] - 23s 455us/step - loss: 1.6195 - acc: 0.4324 - val_loss: 1.6874 - val_acc: 0.4139\n",
      "Epoch 4/50\n",
      "50000/50000 [==============================] - 23s 451us/step - loss: 1.5459 - acc: 0.4585 - val_loss: 1.6352 - val_acc: 0.4303\n",
      "Epoch 5/50\n",
      "50000/50000 [==============================] - 23s 459us/step - loss: 1.4900 - acc: 0.4797 - val_loss: 1.6042 - val_acc: 0.4389\n",
      "Epoch 6/50\n",
      "50000/50000 [==============================] - 22s 446us/step - loss: 1.4461 - acc: 0.4962 - val_loss: 1.5715 - val_acc: 0.4472\n",
      "Epoch 7/50\n",
      "50000/50000 [==============================] - 23s 452us/step - loss: 1.4055 - acc: 0.5092 - val_loss: 1.5503 - val_acc: 0.4560\n",
      "Epoch 8/50\n",
      "50000/50000 [==============================] - 22s 447us/step - loss: 1.3705 - acc: 0.5235 - val_loss: 1.5254 - val_acc: 0.4602\n",
      "Epoch 9/50\n",
      "50000/50000 [==============================] - 23s 458us/step - loss: 1.3353 - acc: 0.5357 - val_loss: 1.5119 - val_acc: 0.4680\n",
      "Epoch 10/50\n",
      "50000/50000 [==============================] - 23s 457us/step - loss: 1.3042 - acc: 0.5468 - val_loss: 1.5078 - val_acc: 0.4696\n",
      "Epoch 11/50\n",
      "50000/50000 [==============================] - 22s 448us/step - loss: 1.2752 - acc: 0.5583 - val_loss: 1.4906 - val_acc: 0.4793\n",
      "Epoch 12/50\n",
      "50000/50000 [==============================] - 22s 444us/step - loss: 1.2499 - acc: 0.5690 - val_loss: 1.4878 - val_acc: 0.4768\n",
      "Epoch 13/50\n",
      "50000/50000 [==============================] - 25s 491us/step - loss: 1.2225 - acc: 0.5773 - val_loss: 1.4709 - val_acc: 0.4824\n",
      "Epoch 14/50\n",
      "50000/50000 [==============================] - 41s 820us/step - loss: 1.1968 - acc: 0.5872 - val_loss: 1.4692 - val_acc: 0.4890\n",
      "Epoch 15/50\n",
      "50000/50000 [==============================] - 41s 814us/step - loss: 1.1729 - acc: 0.5953 - val_loss: 1.4757 - val_acc: 0.4836\n",
      "Epoch 16/50\n",
      "50000/50000 [==============================] - 41s 819us/step - loss: 1.1497 - acc: 0.6065 - val_loss: 1.4748 - val_acc: 0.4839\n",
      "Epoch 17/50\n",
      "50000/50000 [==============================] - 41s 816us/step - loss: 1.1268 - acc: 0.6148 - val_loss: 1.4771 - val_acc: 0.4872\n",
      "Epoch 18/50\n",
      "50000/50000 [==============================] - 41s 817us/step - loss: 1.1031 - acc: 0.6238 - val_loss: 1.4512 - val_acc: 0.4974\n",
      "Epoch 19/50\n",
      "50000/50000 [==============================] - 42s 831us/step - loss: 1.0789 - acc: 0.6327 - val_loss: 1.4540 - val_acc: 0.4917\n",
      "Epoch 20/50\n",
      "50000/50000 [==============================] - 41s 829us/step - loss: 1.0574 - acc: 0.6401 - val_loss: 1.4718 - val_acc: 0.4889\n",
      "Epoch 21/50\n",
      "50000/50000 [==============================] - 41s 814us/step - loss: 1.0382 - acc: 0.6479 - val_loss: 1.4541 - val_acc: 0.4959\n",
      "Epoch 22/50\n",
      "50000/50000 [==============================] - 42s 834us/step - loss: 1.0136 - acc: 0.6561 - val_loss: 1.4691 - val_acc: 0.4956\n",
      "Epoch 23/50\n",
      "50000/50000 [==============================] - 42s 846us/step - loss: 0.9929 - acc: 0.6636 - val_loss: 1.4613 - val_acc: 0.4955\n",
      "Epoch 24/50\n",
      "50000/50000 [==============================] - 41s 815us/step - loss: 0.9735 - acc: 0.6718 - val_loss: 1.4552 - val_acc: 0.4974\n",
      "Epoch 25/50\n",
      "50000/50000 [==============================] - 41s 813us/step - loss: 0.9539 - acc: 0.6803 - val_loss: 1.4641 - val_acc: 0.4972\n",
      "Epoch 26/50\n",
      "50000/50000 [==============================] - 40s 809us/step - loss: 0.9325 - acc: 0.6875 - val_loss: 1.4712 - val_acc: 0.4990\n",
      "Epoch 27/50\n",
      "50000/50000 [==============================] - 42s 835us/step - loss: 0.9108 - acc: 0.6969 - val_loss: 1.4678 - val_acc: 0.5028\n",
      "Epoch 28/50\n",
      "50000/50000 [==============================] - 41s 810us/step - loss: 0.8893 - acc: 0.7041 - val_loss: 1.4753 - val_acc: 0.5028\n",
      "Epoch 29/50\n",
      "50000/50000 [==============================] - 41s 823us/step - loss: 0.8706 - acc: 0.7114 - val_loss: 1.4907 - val_acc: 0.5047\n",
      "Epoch 30/50\n",
      "50000/50000 [==============================] - 41s 818us/step - loss: 0.8499 - acc: 0.7192 - val_loss: 1.4825 - val_acc: 0.5027\n",
      "Epoch 31/50\n",
      "50000/50000 [==============================] - 42s 834us/step - loss: 0.8312 - acc: 0.7271 - val_loss: 1.4983 - val_acc: 0.4974\n",
      "Epoch 32/50\n",
      "50000/50000 [==============================] - 41s 815us/step - loss: 0.8112 - acc: 0.7342 - val_loss: 1.4899 - val_acc: 0.4992\n",
      "Epoch 33/50\n",
      "50000/50000 [==============================] - 41s 828us/step - loss: 0.7903 - acc: 0.7443 - val_loss: 1.5032 - val_acc: 0.4997\n",
      "Epoch 34/50\n",
      "50000/50000 [==============================] - 41s 816us/step - loss: 0.7718 - acc: 0.7520 - val_loss: 1.5184 - val_acc: 0.5027\n",
      "Epoch 35/50\n",
      "50000/50000 [==============================] - 41s 813us/step - loss: 0.7524 - acc: 0.7591 - val_loss: 1.5139 - val_acc: 0.4986\n",
      "Epoch 36/50\n",
      "50000/50000 [==============================] - 42s 832us/step - loss: 0.7350 - acc: 0.7647 - val_loss: 1.5321 - val_acc: 0.4937\n",
      "Epoch 37/50\n",
      "50000/50000 [==============================] - 41s 822us/step - loss: 0.7169 - acc: 0.7730 - val_loss: 1.5328 - val_acc: 0.5011\n",
      "Epoch 38/50\n",
      "50000/50000 [==============================] - 42s 836us/step - loss: 0.6995 - acc: 0.7798 - val_loss: 1.5670 - val_acc: 0.4925\n",
      "Epoch 39/50\n",
      "50000/50000 [==============================] - 41s 816us/step - loss: 0.6798 - acc: 0.7875 - val_loss: 1.5614 - val_acc: 0.4970\n",
      "Epoch 40/50\n",
      "50000/50000 [==============================] - 41s 819us/step - loss: 0.6608 - acc: 0.7963 - val_loss: 1.5662 - val_acc: 0.4946\n",
      "Epoch 41/50\n",
      "50000/50000 [==============================] - 41s 819us/step - loss: 0.6410 - acc: 0.8042 - val_loss: 1.5803 - val_acc: 0.4951\n",
      "Epoch 42/50\n",
      "50000/50000 [==============================] - 41s 823us/step - loss: 0.6257 - acc: 0.8087 - val_loss: 1.5844 - val_acc: 0.4911\n",
      "Epoch 43/50\n",
      "50000/50000 [==============================] - 40s 809us/step - loss: 0.6062 - acc: 0.8182 - val_loss: 1.5911 - val_acc: 0.4973\n",
      "Epoch 44/50\n",
      "50000/50000 [==============================] - 41s 813us/step - loss: 0.5880 - acc: 0.8248 - val_loss: 1.5996 - val_acc: 0.4960\n",
      "Epoch 45/50\n"
     ]
    },
    {
     "name": "stdout",
     "output_type": "stream",
     "text": [
      "50000/50000 [==============================] - 41s 819us/step - loss: 0.5705 - acc: 0.8316 - val_loss: 1.6340 - val_acc: 0.4920\n",
      "Epoch 46/50\n",
      "50000/50000 [==============================] - 41s 828us/step - loss: 0.5551 - acc: 0.8382 - val_loss: 1.6395 - val_acc: 0.4898\n",
      "Epoch 47/50\n",
      "50000/50000 [==============================] - 41s 814us/step - loss: 0.5373 - acc: 0.8443 - val_loss: 1.6771 - val_acc: 0.4830\n",
      "Epoch 48/50\n",
      "50000/50000 [==============================] - 41s 812us/step - loss: 0.5213 - acc: 0.8494 - val_loss: 1.6558 - val_acc: 0.4950\n",
      "Epoch 49/50\n",
      "50000/50000 [==============================] - 41s 821us/step - loss: 0.5046 - acc: 0.8579 - val_loss: 1.6720 - val_acc: 0.4855\n",
      "Epoch 50/50\n",
      "50000/50000 [==============================] - 40s 809us/step - loss: 0.4880 - acc: 0.8657 - val_loss: 1.6891 - val_acc: 0.4896\n"
     ]
    }
   ],
   "source": [
    "# 載入 Callbacks\n",
    "\"\"\"Code Here\n",
    "設定 callbacks: model checkpoint\n",
    "\"\"\"\n",
    "\n",
    "results = {}\n",
    "\"\"\"Code Here\n",
    "撰寫你的訓練流程並將結果用 dictionary 紀錄\n",
    "\"\"\"\n",
    "from keras.callbacks import ModelCheckpoint\n",
    "\n",
    "model_ckpt = ModelCheckpoint(filepath=\"./tmp.h5\", \n",
    "                             monitor=\"val_loss\", \n",
    "                             save_best_only=False,\n",
    "                             save_weights_only=True)\n",
    "\n",
    "\n",
    "model = build_mlp(input_shape=x_train.shape[1:])\n",
    "model.summary()\n",
    "optimizer = keras.optimizers.SGD(lr=LEARNING_RATE, nesterov=True, momentum=MOMENTUM)\n",
    "model.compile(loss=\"categorical_crossentropy\", metrics=[\"accuracy\"], optimizer=optimizer)\n",
    "\n",
    "model.fit(x_train, y_train, \n",
    "          epochs=EPOCHS, \n",
    "          batch_size=BATCH_SIZE, \n",
    "          validation_data=(x_test, y_test), \n",
    "          shuffle=True,\n",
    "          callbacks=[model_ckpt]\n",
    "         )\n",
    "\n",
    "# Collect results\n",
    "train_loss = model.history.history[\"loss\"]\n",
    "valid_loss = model.history.history[\"val_loss\"]\n",
    "train_acc = model.history.history[\"acc\"]\n",
    "valid_acc = model.history.history[\"val_acc\"]"
   ]
  },
  {
   "cell_type": "code",
   "execution_count": 9,
   "metadata": {},
   "outputs": [
    {
     "name": "stdout",
     "output_type": "stream",
     "text": [
      "_________________________________________________________________\n",
      "Layer (type)                 Output Shape              Param #   \n",
      "=================================================================\n",
      "input_2 (InputLayer)         (None, 3072)              0         \n",
      "_________________________________________________________________\n",
      "hidden_layer1 (Dense)        (None, 512)               1573376   \n",
      "_________________________________________________________________\n",
      "batch_normalization_4 (Batch (None, 512)               2048      \n",
      "_________________________________________________________________\n",
      "hidden_layer2 (Dense)        (None, 256)               131328    \n",
      "_________________________________________________________________\n",
      "batch_normalization_5 (Batch (None, 256)               1024      \n",
      "_________________________________________________________________\n",
      "hidden_layer3 (Dense)        (None, 128)               32896     \n",
      "_________________________________________________________________\n",
      "batch_normalization_6 (Batch (None, 128)               512       \n",
      "_________________________________________________________________\n",
      "output (Dense)               (None, 10)                1290      \n",
      "=================================================================\n",
      "Total params: 1,742,474\n",
      "Trainable params: 1,740,682\n",
      "Non-trainable params: 1,792\n",
      "_________________________________________________________________\n"
     ]
    }
   ],
   "source": [
    "# Load back\n",
    "reload_model = build_mlp(input_shape=x_train.shape[1:])\n",
    "reload_model.load_weights(\"./tmp.h5\")\n",
    "optimizer = keras.optimizers.SGD(lr=LEARNING_RATE, nesterov=True, momentum=MOMENTUM)\n",
    "reload_model.compile(loss=\"categorical_crossentropy\", metrics=[\"accuracy\"], optimizer=optimizer)\n",
    "reload_model.summary()"
   ]
  },
  {
   "cell_type": "code",
   "execution_count": 10,
   "metadata": {},
   "outputs": [
    {
     "name": "stdout",
     "output_type": "stream",
     "text": [
      "10000/10000 [==============================] - 9s 886us/step\n",
      "loss_loadback: 1.689138192176819\n",
      "acc_loadback: 0.4896\n"
     ]
    }
   ],
   "source": [
    "loss_loadback, acc_loadback = reload_model.evaluate(x_test, y_test)\n",
    "print('loss_loadback: {}\\nacc_loadback: {}'.format(loss_loadback, acc_loadback))"
   ]
  },
  {
   "cell_type": "code",
   "execution_count": 11,
   "metadata": {
    "scrolled": true
   },
   "outputs": [
    {
     "data": {
      "image/png": "[encoded data removed]",
      "text/plain": [
       "<Figure size 432x288 with 1 Axes>"
      ]
     },
     "metadata": {
      "needs_background": "light"
     },
     "output_type": "display_data"
    },
    {
     "data": {
      "image/png": "[encoded data removed]",
      "text/plain": [
       "<Figure size 432x288 with 1 Axes>"
      ]
     },
     "metadata": {
      "needs_background": "light"
     },
     "output_type": "display_data"
    }
   ],
   "source": [
    "import matplotlib.pyplot as plt\n",
    "%matplotlib inline\n",
    "\n",
    "plt.plot(range(len(train_loss)), train_loss, label=\"train loss\")\n",
    "plt.plot(range(len(valid_loss)), valid_loss, label=\"valid loss\")\n",
    "plt.hlines(y=loss_loadback, xmin=0, xmax=len(train_loss), colors='r', linestyles='--')\n",
    "plt.legend()\n",
    "plt.title(\"Loss\")\n",
    "plt.show()\n",
    "\n",
    "plt.plot(range(len(train_acc)), train_acc, label=\"train accuracy\")\n",
    "plt.plot(range(len(valid_acc)), valid_acc, label=\"valid accuracy\")\n",
    "plt.hlines(y=acc_loadback, xmin=0, xmax=len(train_loss), colors='r', linestyles='--')\n",
    "plt.legend()\n",
    "plt.title(\"Accuracy\")\n",
    "plt.show()"
   ]
  },
  {
   "cell_type": "code",
   "execution_count": null,
   "metadata": {},
   "outputs": [],
   "source": []
  }
 ],
 "metadata": {
  "kernelspec": {
   "display_name": "Python 3",
   "language": "python",
   "name": "python3"
  },
  "language_info": {
   "codemirror_mode": {
    "name": "ipython",
    "version": 3
   },
   "file_extension": ".py",
   "mimetype": "text/x-python",
   "name": "python",
   "nbconvert_exporter": "python",
   "pygments_lexer": "ipython3",
   "version": "3.7.1"
  }
 },
 "nbformat": 4,
 "nbformat_minor": 2
}
