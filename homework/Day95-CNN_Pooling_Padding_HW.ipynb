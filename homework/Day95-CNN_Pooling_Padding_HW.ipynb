{
 "cells": [
  {
   "cell_type": "markdown",
   "metadata": {},
   "source": [
    "# 作業目標:\n",
    "    了解 Padding 的作法\n",
    "    \n",
    "    了解 Pooling 的作法"
   ]
  },
  {
   "cell_type": "markdown",
   "metadata": {},
   "source": [
    "# 作業重點:\n",
    "    (1) 調整Padding 的設定, 看 Pad 後的結果\n",
    "    \n",
    "    (2) 調整Pooling 的設定, 看 Poolin 後的結果"
   ]
  },
  {
   "cell_type": "code",
   "execution_count": 1,
   "metadata": {},
   "outputs": [],
   "source": [
    "import numpy as np\n",
    "import h5py\n",
    "import matplotlib.pyplot as plt\n",
    "\n",
    "# 繪圖結果直接顯示在Jupyter cell 之內\n",
    "%matplotlib inline  \n",
    "plt.rcParams['figure.figsize'] = (5.0, 4.0) #  設定繪圖板的大小\n",
    "plt.rcParams['image.interpolation'] = 'nearest'\n",
    "plt.rcParams['image.cmap'] = 'gray'\n",
    "\n",
    "# autoreload。可以讓我們不退出IPython就動態修改代碼，在執行代碼前IPython會幫我們自動重載改動的模塊\n",
    "%load_ext autoreload\n",
    "%autoreload 2\n",
    "np.random.seed(1)"
   ]
  },
  {
   "cell_type": "code",
   "execution_count": 2,
   "metadata": {},
   "outputs": [],
   "source": [
    "# GRADED FUNCTION: zero_pad\n",
    "def zero_pad(X, pad):\n",
    "    \"\"\"\n",
    "    對image X 做 zero-padding. \n",
    "    參數定義如下:\n",
    "    X -- python numpy array, 呈現維度 (m, n_H, n_W, n_C), 代表一批 m 個圖像\n",
    "         n_H: 圖高, n_W: 圖寬, n_C: color channels 數\n",
    "    pad -- 整數, 加幾圈的 zero padding.\n",
    "    Returns:\n",
    "    X_pad -- image of shape (m, n_H + 2*pad, n_W + 2*pad, n_C) 做完zero-padding 的結果\n",
    "    \"\"\"\n",
    "    \n",
    "    X_pad = np.pad(X, ((0, 0), (pad, pad), (pad, pad), (0, 0)), 'constant', constant_values=(0, 0))\n",
    "  \n",
    "    return X_pad"
   ]
  },
  {
   "cell_type": "code",
   "execution_count": 4,
   "metadata": {},
   "outputs": [
    {
     "name": "stdout",
     "output_type": "stream",
     "text": [
      "x.shape = (2, 5, 5, 3)\n",
      "x_pad.shape = (2, 7, 7, 3)\n",
      "x[1,1] = [[ 1.19891788  0.18515642 -0.37528495]\n",
      " [-0.63873041  0.42349435  0.07734007]\n",
      " [-0.34385368  0.04359686 -0.62000084]\n",
      " [ 0.69803203 -0.44712856  1.2245077 ]\n",
      " [ 0.40349164  0.59357852 -1.09491185]]\n",
      "x_pad[1,1] = [[ 0.          0.          0.        ]\n",
      " [-2.02220122 -0.30620401  0.82797464]\n",
      " [ 0.23009474  0.76201118 -0.22232814]\n",
      " [-0.20075807  0.18656139  0.41005165]\n",
      " [ 0.19829972  0.11900865 -0.67066229]\n",
      " [ 0.37756379  0.12182127  1.12948391]\n",
      " [ 0.          0.          0.        ]]\n"
     ]
    },
    {
     "data": {
      "text/plain": [
       "<matplotlib.image.AxesImage at 0x16ba2aa5e80>"
      ]
     },
     "execution_count": 4,
     "metadata": {},
     "output_type": "execute_result"
    },
    {
     "data": {
      "image/png": "[encoded data removed]",
      "text/plain": [
       "<Figure size 432x288 with 2 Axes>"
      ]
     },
     "metadata": {
      "needs_background": "light"
     },
     "output_type": "display_data"
    }
   ],
   "source": [
    "'''\n",
    "作業修改\n",
    "np.random.seed(1)\n",
    "\n",
    "x = \n",
    "x_pad = \n",
    "\n",
    "'''\n",
    "\n",
    "x = np.random.randn(2, 5, 5, 3)\n",
    "x_pad = zero_pad(x, 1)\n",
    "\n",
    "print (\"x.shape =\", x.shape)\n",
    "print (\"x_pad.shape =\", x_pad.shape)\n",
    "print (\"x[1,1] =\", x[1,1])\n",
    "print (\"x_pad[1,1] =\", x_pad[1,1])\n",
    "fig, axarr = plt.subplots(1, 2)\n",
    "axarr[0].set_title('x')\n",
    "axarr[0].imshow(x[0,:,:,0])\n",
    "axarr[1].set_title('x_pad')\n",
    "axarr[1].imshow(x_pad[0,:,:,0])"
   ]
  },
  {
   "cell_type": "code",
   "execution_count": 5,
   "metadata": {},
   "outputs": [],
   "source": [
    "# GRADED FUNCTION: pool_forward\n",
    "def pool_forward(A_prev, hparameters, mode = \"max\"):\n",
    "    \"\"\"\n",
    "    設計一個前行網路的池化層\n",
    "    參數定義如下:\n",
    "    A_prev -- 輸入的numpy 陣列, 維度 (m, n_H_prev, n_W_prev, n_C_prev)\n",
    "    hparameter 超參數 --  \"f\" and \"stride\" 所形成的python 字典\n",
    "    mode -- 池化的模式: \"max\" or \"average\"\n",
    "    \n",
    "    返回:\n",
    "        A -- 輸出的池化層, 維度為 (m, n_H, n_W, n_C) 的 numpy 陣列\n",
    "        cache -- 可以應用在 backward pass pooling layer 資料, 包含 input and hparameter\n",
    "    \"\"\"\n",
    "\n",
    "    # 檢索尺寸 from the input shape\n",
    "    (m, n_H_prev, n_W_prev, n_C_prev) = A_prev.shape\n",
    " \n",
    "    # 檢索超參數 from \"hparameters\"\n",
    "    f = hparameters[\"f\"]\n",
    "    stride = hparameters[\"stride\"]\n",
    "\n",
    "    # 定義輸出的dimensions\n",
    "    n_H = int(1 + (n_H_prev - f) / stride)\n",
    "    n_W = int(1 + (n_W_prev - f) / stride)\n",
    "    n_C = n_C_prev\n",
    "\n",
    "    # 初始化輸出的 matrix A\n",
    "    A = np.zeros((m, n_H, n_W, n_C))\n",
    "\n",
    "    ### 程式起始位置  ###\n",
    "    for i in range(m): # 訓練樣本的for 迴圈\n",
    "        for h in range(n_H): # 輸出樣本的for 迴圈, 針對vertical axis\n",
    "            for w in range(n_W): #  輸出樣本的for 迴圈, 針對 horizontal axis\n",
    "                for c in range (n_C): #  輸出樣本的for 迴圈, 針對channels\n",
    "\n",
    "                     # 找出特徵圖的寬度跟高度四個點\n",
    "                    vert_start = h * stride\n",
    "                    vert_end = h * stride+ f\n",
    "                    horiz_start = w * stride\n",
    "                    horiz_end = w * stride + f\n",
    "\n",
    "                    # 定義第i個訓練示例\n",
    "                    a_prev_slice = A_prev[i, vert_start:vert_end, horiz_start:horiz_end,c]\n",
    "\n",
    "                    # 計算輸入data 的池化結果. 使用 if statment 去做分類\n",
    "                    if mode == \"max\":\n",
    "                        A[i, h, w, c] = np.max(a_prev_slice)\n",
    "                    elif mode == \"average\":\n",
    "                        A[i, h, w, c] = np.mean(a_prev_slice)\n",
    "\n",
    "                        ### 程式結束  ###\n",
    "    \n",
    "    # 儲存輸入的特徵圖跟所設定的超參數, 可以用在 pool_backward()\n",
    "    cache = (A_prev, hparameters)\n",
    "    \n",
    "    # 確認輸出的資料維度\n",
    "    assert(A.shape == (m, n_H, n_W, n_C))\n",
    "    return A, cache"
   ]
  },
  {
   "cell_type": "code",
   "execution_count": 6,
   "metadata": {},
   "outputs": [
    {
     "name": "stdout",
     "output_type": "stream",
     "text": [
      "mode = max\n",
      "A = [[[[ 1.62434536  0.86540763 -0.52817175]\n",
      "   [ 0.90085595  1.46210794  1.13376944]]\n",
      "\n",
      "  [[ 0.12015895  1.25286816  2.10025514]\n",
      "   [ 0.93110208  0.87616892  0.88514116]]]\n",
      "\n",
      "\n",
      " [[[ 1.19891788  0.76201118  0.82797464]\n",
      "   [ 0.69803203  0.59357852  1.2245077 ]]\n",
      "\n",
      "  [[ 1.96710175  0.52057634  1.27375593]\n",
      "   [ 0.86334532  0.5505375   0.79280687]]]]\n",
      "\n",
      "mode = average\n",
      "A = [[[[-0.12657519  0.16600956 -1.20204701]\n",
      "   [-0.15167527  0.03160941 -0.12972651]]\n",
      "\n",
      "  [[-0.39233187  0.63737622  0.70944589]\n",
      "   [-0.12856285  0.07606641  0.38382342]]]\n",
      "\n",
      "\n",
      " [[[-0.30797975  0.26611448  0.0769254 ]\n",
      "   [ 0.4193468   0.09681997  0.14710437]]\n",
      "\n",
      "  [[ 0.53020377 -0.51649996  0.2947522 ]\n",
      "   [ 0.19528319  0.18495324  0.23731469]]]]\n"
     ]
    }
   ],
   "source": [
    "'''\n",
    "作業修改\n",
    "np.random.seed(1)\n",
    "A_prev = \n",
    "hparameters = \n",
    "'''\n",
    "\n",
    "np.random.seed(1)\n",
    "A_prev = np.random.randn(2, 5, 5, 3)\n",
    "hparameters = {\"stride\" : 3, \"f\": 2}\n",
    "\n",
    "\n",
    "A, cache = pool_forward(A_prev, hparameters)\n",
    "print(\"mode = max\")\n",
    "print(\"A =\", A)\n",
    "print()\n",
    "A, cache = pool_forward(A_prev, hparameters, mode = \"average\")\n",
    "print(\"mode = average\")\n",
    "print(\"A =\", A)"
   ]
  },
  {
   "cell_type": "code",
   "execution_count": null,
   "metadata": {},
   "outputs": [],
   "source": []
  }
 ],
 "metadata": {
  "kernelspec": {
   "display_name": "Python 3",
   "language": "python",
   "name": "python3"
  },
  "language_info": {
   "codemirror_mode": {
    "name": "ipython",
    "version": 3
   },
   "file_extension": ".py",
   "mimetype": "text/x-python",
   "name": "python",
   "nbconvert_exporter": "python",
   "pygments_lexer": "ipython3",
   "version": "3.7.1"
  }
 },
 "nbformat": 4,
 "nbformat_minor": 2
}
