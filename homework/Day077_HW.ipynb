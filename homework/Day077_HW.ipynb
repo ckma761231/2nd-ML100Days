{
 "cells": [
  {
   "cell_type": "markdown",
   "metadata": {},
   "source": [
    "## Work\n",
    "1. 請將 Epoch 加到 500 個，並觀察 learning curve 的走勢\n",
    "2. 請將 Optimizer 換成 SGD，並觀察 learning curve 的走勢"
   ]
  },
  {
   "cell_type": "code",
   "execution_count": 1,
   "metadata": {},
   "outputs": [
    {
     "name": "stderr",
     "output_type": "stream",
     "text": [
      "Using TensorFlow backend.\n"
     ]
    }
   ],
   "source": [
    "import os\n",
    "import keras\n",
    "\n",
    "# 本作業可以不需使用 GPU, 將 GPU 設定為 \"無\" (若有 GPU 且想開啟，可設為 \"0\")\n",
    "os.environ[\"CUDA_VISIBLE_DEVICES\"] = \"無\""
   ]
  },
  {
   "cell_type": "code",
   "execution_count": 2,
   "metadata": {},
   "outputs": [],
   "source": [
    "# 從 Keras 的內建功能中，取得 train 與 test 資料集\n",
    "train, test = keras.datasets.cifar10.load_data()"
   ]
  },
  {
   "cell_type": "code",
   "execution_count": 3,
   "metadata": {},
   "outputs": [],
   "source": [
    "# 將 X 與 Y 獨立放進變數\n",
    "x_train, y_train = train\n",
    "x_test, y_test = test\n",
    "# 資料前處理 - 標準化\n",
    "x_train = x_train / 255.\n",
    "x_test = x_test / 255.\n",
    "\n",
    "# 將資料從圖形 (RGB) 轉為向量 (Single Vector)\n",
    "x_train = x_train.reshape((len(x_train), -1))\n",
    "x_test = x_test.reshape((len(x_test), -1))\n",
    "\n",
    "# 將目標轉為 one-hot encoding\n",
    "y_train = keras.utils.to_categorical(y_train, num_classes=10)\n",
    "y_test = keras.utils.to_categorical(y_test, num_classes=10)"
   ]
  },
  {
   "cell_type": "code",
   "execution_count": 4,
   "metadata": {},
   "outputs": [
    {
     "name": "stdout",
     "output_type": "stream",
     "text": [
      "WARNING:tensorflow:From D:\\anaconda3\\lib\\site-packages\\tensorflow\\python\\framework\\op_def_library.py:263: colocate_with (from tensorflow.python.framework.ops) is deprecated and will be removed in a future version.\n",
      "Instructions for updating:\n",
      "Colocations handled automatically by placer.\n"
     ]
    }
   ],
   "source": [
    "def build_mlp():\n",
    "    \"\"\"Code Here\n",
    "    建立你的神經網路\n",
    "    \"\"\"\n",
    "    input_layer = keras.layers.Input([x_train.shape[-1]])\n",
    "    x = keras.layers.Dense(units=512, activation=\"relu\")(input_layer)\n",
    "    x = keras.layers.Dense(units=256, activation=\"relu\")(x)\n",
    "    x = keras.layers.Dense(units=128, activation=\"relu\")(x)\n",
    "    out = keras.layers.Dense(units=10, activation=\"softmax\")(x)\n",
    "    \n",
    "    model = keras.models.Model(inputs=[input_layer], outputs=[out])\n",
    "    return model\n",
    "\n",
    "model = build_mlp()"
   ]
  },
  {
   "cell_type": "code",
   "execution_count": 5,
   "metadata": {},
   "outputs": [
    {
     "name": "stdout",
     "output_type": "stream",
     "text": [
      "_________________________________________________________________\n",
      "Layer (type)                 Output Shape              Param #   \n",
      "=================================================================\n",
      "input_1 (InputLayer)         (None, 3072)              0         \n",
      "_________________________________________________________________\n",
      "dense_1 (Dense)              (None, 512)               1573376   \n",
      "_________________________________________________________________\n",
      "dense_2 (Dense)              (None, 256)               131328    \n",
      "_________________________________________________________________\n",
      "dense_3 (Dense)              (None, 128)               32896     \n",
      "_________________________________________________________________\n",
      "dense_4 (Dense)              (None, 10)                1290      \n",
      "=================================================================\n",
      "Total params: 1,738,890\n",
      "Trainable params: 1,738,890\n",
      "Non-trainable params: 0\n",
      "_________________________________________________________________\n"
     ]
    }
   ],
   "source": [
    "\"\"\"\n",
    "Compile 模型\n",
    "\"\"\"\n",
    "model.summary()\n",
    "\n",
    "optimizer = keras.optimizers.SGD(lr=0.01)\n",
    "model.compile(loss=\"categorical_crossentropy\", metrics=[\"accuracy\"], optimizer=optimizer)"
   ]
  },
  {
   "cell_type": "code",
   "execution_count": 6,
   "metadata": {
    "scrolled": true
   },
   "outputs": [
    {
     "name": "stdout",
     "output_type": "stream",
     "text": [
      "WARNING:tensorflow:From D:\\anaconda3\\lib\\site-packages\\tensorflow\\python\\ops\\math_ops.py:3066: to_int32 (from tensorflow.python.ops.math_ops) is deprecated and will be removed in a future version.\n",
      "Instructions for updating:\n",
      "Use tf.cast instead.\n",
      "Train on 50000 samples, validate on 10000 samples\n",
      "Epoch 1/20\n",
      "50000/50000 [==============================] - 28s 552us/step - loss: 2.0638 - acc: 0.2675 - val_loss: 1.9476 - val_acc: 0.3140\n",
      "Epoch 2/20\n",
      "50000/50000 [==============================] - 24s 482us/step - loss: 1.8789 - acc: 0.3366 - val_loss: 1.9552 - val_acc: 0.2919\n",
      "Epoch 3/20\n",
      "50000/50000 [==============================] - 24s 480us/step - loss: 1.8178 - acc: 0.3598 - val_loss: 1.8277 - val_acc: 0.3405\n",
      "Epoch 4/20\n",
      "50000/50000 [==============================] - 24s 477us/step - loss: 1.7729 - acc: 0.3753 - val_loss: 1.7848 - val_acc: 0.3683\n",
      "Epoch 5/20\n",
      "50000/50000 [==============================] - 24s 483us/step - loss: 1.7371 - acc: 0.3885 - val_loss: 1.7321 - val_acc: 0.3879\n",
      "Epoch 6/20\n",
      "50000/50000 [==============================] - 24s 489us/step - loss: 1.7039 - acc: 0.4016 - val_loss: 1.7155 - val_acc: 0.3981\n",
      "Epoch 7/20\n",
      "50000/50000 [==============================] - 24s 486us/step - loss: 1.6770 - acc: 0.4095 - val_loss: 1.7705 - val_acc: 0.3629\n",
      "Epoch 8/20\n",
      "50000/50000 [==============================] - 25s 497us/step - loss: 1.6561 - acc: 0.4179 - val_loss: 1.6531 - val_acc: 0.4112\n",
      "Epoch 9/20\n",
      "50000/50000 [==============================] - 25s 492us/step - loss: 1.6278 - acc: 0.4289 - val_loss: 1.6288 - val_acc: 0.4208\n",
      "Epoch 10/20\n",
      "50000/50000 [==============================] - 25s 506us/step - loss: 1.6102 - acc: 0.4348 - val_loss: 1.6477 - val_acc: 0.4153\n",
      "Epoch 11/20\n",
      "50000/50000 [==============================] - 24s 474us/step - loss: 1.5975 - acc: 0.4376 - val_loss: 1.7266 - val_acc: 0.3862\n",
      "Epoch 12/20\n",
      "50000/50000 [==============================] - 24s 487us/step - loss: 1.5776 - acc: 0.4441 - val_loss: 1.6595 - val_acc: 0.4125\n",
      "Epoch 13/20\n",
      "50000/50000 [==============================] - 25s 493us/step - loss: 1.5629 - acc: 0.4503 - val_loss: 1.5832 - val_acc: 0.4382\n",
      "Epoch 14/20\n",
      "50000/50000 [==============================] - 24s 478us/step - loss: 1.5470 - acc: 0.4562 - val_loss: 1.5807 - val_acc: 0.4356\n",
      "Epoch 15/20\n",
      "50000/50000 [==============================] - 24s 481us/step - loss: 1.5324 - acc: 0.4595 - val_loss: 1.5750 - val_acc: 0.4377\n",
      "Epoch 16/20\n",
      "50000/50000 [==============================] - 25s 490us/step - loss: 1.5208 - acc: 0.4644 - val_loss: 1.5940 - val_acc: 0.4354\n",
      "Epoch 17/20\n",
      "50000/50000 [==============================] - 24s 487us/step - loss: 1.5091 - acc: 0.4693 - val_loss: 1.6370 - val_acc: 0.4176\n",
      "Epoch 18/20\n",
      "50000/50000 [==============================] - 25s 503us/step - loss: 1.4958 - acc: 0.4763 - val_loss: 1.5332 - val_acc: 0.4544\n",
      "Epoch 19/20\n",
      "50000/50000 [==============================] - 25s 499us/step - loss: 1.4794 - acc: 0.4789 - val_loss: 1.5021 - val_acc: 0.4699\n",
      "Epoch 20/20\n",
      "50000/50000 [==============================] - 25s 496us/step - loss: 1.4705 - acc: 0.4826 - val_loss: 1.5114 - val_acc: 0.4679\n"
     ]
    },
    {
     "data": {
      "text/plain": [
       "<keras.callbacks.History at 0x2000babd898>"
      ]
     },
     "execution_count": 6,
     "metadata": {},
     "output_type": "execute_result"
    }
   ],
   "source": [
    "\"\"\"\n",
    "設定要訓練的 Epoch 數\n",
    "\"\"\"\n",
    "model.fit(x_train, y_train, \n",
    "          epochs=20, \n",
    "          batch_size=256, \n",
    "          validation_data=(x_test, y_test), \n",
    "          shuffle=True)"
   ]
  },
  {
   "cell_type": "code",
   "execution_count": 8,
   "metadata": {},
   "outputs": [
    {
     "data": {
      "image/png": "[encoded data removed]",
      "text/plain": [
       "<Figure size 432x288 with 1 Axes>"
      ]
     },
     "metadata": {
      "needs_background": "light"
     },
     "output_type": "display_data"
    },
    {
     "data": {
      "image/png": "[encoded data removed]",
      "text/plain": [
       "<Figure size 432x288 with 1 Axes>"
      ]
     },
     "metadata": {
      "needs_background": "light"
     },
     "output_type": "display_data"
    }
   ],
   "source": [
    "import matplotlib.pyplot as plt\n",
    "# 以視覺畫方式檢視訓練過程\n",
    "\n",
    "train_loss = model.history.history[\"loss\"]\n",
    "valid_loss = model.history.history[\"val_loss\"]\n",
    "\n",
    "train_acc = model.history.history[\"acc\"]\n",
    "valid_acc = model.history.history[\"val_acc\"]\n",
    "\n",
    "plt.plot(range(len(train_loss)), train_loss, label=\"train loss\")\n",
    "plt.plot(range(len(valid_loss)), valid_loss, label=\"valid loss\")\n",
    "plt.legend()\n",
    "plt.title(\"Loss\")\n",
    "plt.show()\n",
    "\n",
    "plt.plot(range(len(train_acc)), train_acc, label=\"train accuracy\")\n",
    "plt.plot(range(len(valid_acc)), valid_acc, label=\"valid accuracy\")\n",
    "plt.legend()\n",
    "plt.title(\"Accuracy\")\n",
    "plt.show()"
   ]
  },
  {
   "cell_type": "code",
   "execution_count": null,
   "metadata": {},
   "outputs": [],
   "source": []
  }
 ],
 "metadata": {
  "kernelspec": {
   "display_name": "Python 3",
   "language": "python",
   "name": "python3"
  },
  "language_info": {
   "codemirror_mode": {
    "name": "ipython",
    "version": 3
   },
   "file_extension": ".py",
   "mimetype": "text/x-python",
   "name": "python",
   "nbconvert_exporter": "python",
   "pygments_lexer": "ipython3",
   "version": "3.7.1"
  }
 },
 "nbformat": 4,
 "nbformat_minor": 2
}
