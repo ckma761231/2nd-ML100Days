{
 "cells": [
  {
   "cell_type": "code",
   "execution_count": 1,
   "metadata": {},
   "outputs": [],
   "source": [
    "import win32com.client\n",
    "import datetime\n",
    "today = datetime.datetime.now()\n",
    "#y=today.year #???2008\n",
    "#m=today.month #???12\n",
    "#d=today.day # ???5\n",
    "#h=today.hour   #??#n=today.minute #??#s=today.second #蝘?59\n",
    "Date=today.strftime('%Y-%m-%d')\n",
    "#s = win32com.client.Dispatch(\"Mapi.Session\")\n",
    "o = win32com.client.Dispatch(\"Outlook.Application\")\n",
    "#s.Logon(\"Outlook2003\")\n",
    "    \n",
    "Msg = o.CreateItem(0)\n",
    "Msg.To = \"whq0813\"\n",
    "    \n",
    "Msg.CC = \"\"\n",
    "Msg.BCC = \"\"\n",
    "    \n",
    "Msg.Subject = \"[PTS daily update]\"\n",
    "Msg.Body = \"\"\n",
    "    \n",
    "Msg.Attachments.Add(r\"C:\\Users\\whq0812\\Downloads\\Bug_Report_Megi-R (Y171AR4)-%s.xlsx\"% (Date))\n",
    "Msg.Attachments.Add(r\"C:\\Users\\whq0812\\Downloads\\Bug_Report_O181TR1 Meiji-%s.xlsx\"% (Date))\n",
    "Msg.Attachments.Add(r\"C:\\Users\\whq0812\\Downloads\\Bug_Report_O181TR3 El Capitan-%s.xlsx\"% (Date))\n",
    "Msg.Attachments.Add(r\"C:\\Users\\whq0812\\Downloads\\Bug_Report_6841_6851-%s.xlsx\"% (Date))\n",
    "Msg.Attachments.Add(r\"C:\\Users\\whq0812\\Downloads\\Bug_Report_Explorer-16-%s.xlsx\"% (Date))\n",
    "#Msg.Attachments.Add(r\"C:\\Users\\whq0812\\Downloads\\Bug_Report_GeminiC-%s.xlsx\"% (Date))\n",
    "Msg.Attachments.Add(r\"C:\\Users\\whq0812\\Downloads\\Bug_Report_Mandark-%s.xlsx\"% (Date))\n",
    "Msg.Attachments.Add(r\"C:\\Users\\whq0812\\Downloads\\Bug_Report_R-Y181YR1-HIL SIMULATOR-%s.xlsx\"% (Date))\n",
    "Msg.Attachments.Add(r\"C:\\Users\\whq0812\\Downloads\\Bug_Report_O172TR2 (Blackburn)-%s.xlsx\"% (Date))\n",
    "#Msg.Attachments.Add(attachment2)\n",
    "\n",
    "Msg.Send()\n"
   ]
  },
  {
   "cell_type": "code",
   "execution_count": null,
   "metadata": {},
   "outputs": [],
   "source": []
  }
 ],
 "metadata": {
  "kernelspec": {
   "display_name": "Python 3",
   "language": "python",
   "name": "python3"
  },
  "language_info": {
   "codemirror_mode": {
    "name": "ipython",
    "version": 3
   },
   "file_extension": ".py",
   "mimetype": "text/x-python",
   "name": "python",
   "nbconvert_exporter": "python",
   "pygments_lexer": "ipython3",
   "version": "3.7.1"
  }
 },
 "nbformat": 4,
 "nbformat_minor": 2
}
