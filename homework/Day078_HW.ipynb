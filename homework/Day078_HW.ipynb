{
 "cells": [
  {
   "cell_type": "markdown",
   "metadata": {},
   "source": [
    "## Work\n",
    "1. 請嘗試將 preproc_x 替換成以每筆資料的 min/max 進行標準化至 -1 ~ 1 間，再進行訓練\n",
    "2. 請嘗試將 mlp 疊更深 (e.g 5~10 層)，進行訓練後觀察 learning curve 的走勢\n",
    "3. (optional) 請改用 GPU 進行訓練 (如果你有 GPU 的話)，比較使用 CPU 與 GPU 的訓練速度"
   ]
  },
  {
   "cell_type": "code",
   "execution_count": 15,
   "metadata": {},
   "outputs": [],
   "source": [
    "import os\n",
    "import keras\n",
    "import numpy as np\n",
    "# 請嘗試設定 GPU：os.environ\n",
    "os.environ[\"CUDA_VISIBLE_DEVICES\"] = \"無\""
   ]
  },
  {
   "cell_type": "code",
   "execution_count": 16,
   "metadata": {},
   "outputs": [],
   "source": [
    "train, test = keras.datasets.cifar10.load_data()"
   ]
  },
  {
   "cell_type": "code",
   "execution_count": 17,
   "metadata": {},
   "outputs": [],
   "source": [
    "## 資料前處理\n",
    "\"\"\"\n",
    "Your code here\n",
    "\"\"\"\n",
    "def preproc_x(x, flatten=True):\n",
    "    mi = x.min()\n",
    "    ma = x.max()\n",
    "    x = 2 * (x - mi)/(ma - mi) -1\n",
    "    if flatten:\n",
    "        x = x.reshape((len(x), -1))\n",
    "    return x\n",
    "\n",
    "def preproc_y(y, num_classes=10):\n",
    "    if y.shape[-1] == 1:\n",
    "        y = keras.utils.to_categorical(y, num_classes)\n",
    "    return y"
   ]
  },
  {
   "cell_type": "code",
   "execution_count": 18,
   "metadata": {},
   "outputs": [],
   "source": [
    "x_train, y_train = train\n",
    "x_test, y_test = test\n",
    "\n",
    "# Preproc the inputs\n",
    "x_train = preproc_x(x_train)\n",
    "x_test = preproc_x(x_test)\n",
    "\n",
    "# Preprc the outputs\n",
    "y_train = preproc_y(y_train)\n",
    "y_test = preproc_y(y_test)"
   ]
  },
  {
   "cell_type": "code",
   "execution_count": 19,
   "metadata": {},
   "outputs": [
    {
     "name": "stdout",
     "output_type": "stream",
     "text": [
      "_________________________________________________________________\n",
      "Layer (type)                 Output Shape              Param #   \n",
      "=================================================================\n",
      "input_2 (InputLayer)         (None, 3072)              0         \n",
      "_________________________________________________________________\n",
      "hidden_layer1 (Dense)        (None, 512)               1573376   \n",
      "_________________________________________________________________\n",
      "hidden_layer2 (Dense)        (None, 256)               131328    \n",
      "_________________________________________________________________\n",
      "hidden_layer3 (Dense)        (None, 256)               65792     \n",
      "_________________________________________________________________\n",
      "hidden_layer4 (Dense)        (None, 128)               32896     \n",
      "_________________________________________________________________\n",
      "hidden_layer5 (Dense)        (None, 128)               16512     \n",
      "_________________________________________________________________\n",
      "output (Dense)               (None, 10)                1290      \n",
      "=================================================================\n",
      "Total params: 1,821,194\n",
      "Trainable params: 1,821,194\n",
      "Non-trainable params: 0\n",
      "_________________________________________________________________\n"
     ]
    }
   ],
   "source": [
    "\"\"\"Code Here\n",
    "建立你的神經網路\n",
    "\"\"\"\n",
    "def build_mlp(input_shape, output_units=10, num_neurons=[512, 256, 256, 128, 128]):\n",
    "    input_layer = keras.layers.Input(input_shape)\n",
    "    \n",
    "    for i, n_units in enumerate(num_neurons):\n",
    "        if i == 0:\n",
    "            x = keras.layers.Dense(units=n_units, activation=\"relu\", name=\"hidden_layer\"+str(i+1))(input_layer)\n",
    "        else:\n",
    "            x = keras.layers.Dense(units=n_units, activation=\"relu\", name=\"hidden_layer\"+str(i+1))(x)\n",
    "    \n",
    "    out = keras.layers.Dense(units=output_units, activation=\"softmax\", name=\"output\")(x)\n",
    "    \n",
    "    model = keras.models.Model(inputs=[input_layer], outputs=[out])\n",
    "    return model\n",
    "\n",
    "model = build_mlp(input_shape=x_train.shape[1:])\n",
    "model.summary()"
   ]
  },
  {
   "cell_type": "code",
   "execution_count": 20,
   "metadata": {},
   "outputs": [],
   "source": [
    "## 超參數設定\n",
    "LEARNING_RATE = 0.001\n",
    "EPOCHS = 20\n",
    "BATCH_SIZE = 256"
   ]
  },
  {
   "cell_type": "code",
   "execution_count": 21,
   "metadata": {},
   "outputs": [],
   "source": [
    "optimizer = keras.optimizers.Adam(lr=LEARNING_RATE)\n",
    "model.compile(loss=\"categorical_crossentropy\", metrics=[\"accuracy\"], optimizer=optimizer)"
   ]
  },
  {
   "cell_type": "code",
   "execution_count": 22,
   "metadata": {},
   "outputs": [
    {
     "name": "stdout",
     "output_type": "stream",
     "text": [
      "Train on 50000 samples, validate on 10000 samples\n",
      "Epoch 1/20\n",
      "50000/50000 [==============================] - 35s 701us/step - loss: 2.2164 - acc: 0.1716 - val_loss: 2.1838 - val_acc: 0.1949\n",
      "Epoch 2/20\n",
      "50000/50000 [==============================] - 30s 604us/step - loss: 2.1070 - acc: 0.2274 - val_loss: 2.0585 - val_acc: 0.2459\n",
      "Epoch 3/20\n",
      "50000/50000 [==============================] - 31s 611us/step - loss: 2.0325 - acc: 0.2617 - val_loss: 2.0194 - val_acc: 0.2643\n",
      "Epoch 4/20\n",
      "50000/50000 [==============================] - 31s 614us/step - loss: 1.9875 - acc: 0.2790 - val_loss: 2.0032 - val_acc: 0.2662\n",
      "Epoch 5/20\n",
      "50000/50000 [==============================] - 31s 627us/step - loss: 1.9534 - acc: 0.2914 - val_loss: 1.9980 - val_acc: 0.2792\n",
      "Epoch 6/20\n",
      "50000/50000 [==============================] - 32s 630us/step - loss: 1.9129 - acc: 0.3103 - val_loss: 1.9753 - val_acc: 0.2827\n",
      "Epoch 7/20\n",
      "50000/50000 [==============================] - 32s 639us/step - loss: 1.8860 - acc: 0.3244 - val_loss: 1.9683 - val_acc: 0.2913\n",
      "Epoch 8/20\n",
      "50000/50000 [==============================] - 32s 636us/step - loss: 1.8527 - acc: 0.3334 - val_loss: 1.9642 - val_acc: 0.2962\n",
      "Epoch 9/20\n",
      "50000/50000 [==============================] - 31s 623us/step - loss: 1.8277 - acc: 0.3477 - val_loss: 1.9697 - val_acc: 0.2944\n",
      "Epoch 10/20\n",
      "50000/50000 [==============================] - 32s 636us/step - loss: 1.7923 - acc: 0.3605 - val_loss: 1.9748 - val_acc: 0.2937\n",
      "Epoch 11/20\n",
      "50000/50000 [==============================] - 31s 629us/step - loss: 1.7602 - acc: 0.3701 - val_loss: 1.9511 - val_acc: 0.3030\n",
      "Epoch 12/20\n",
      "50000/50000 [==============================] - 32s 633us/step - loss: 1.7224 - acc: 0.3865 - val_loss: 1.9526 - val_acc: 0.3086\n",
      "Epoch 13/20\n",
      "50000/50000 [==============================] - 31s 629us/step - loss: 1.6926 - acc: 0.3971 - val_loss: 2.0027 - val_acc: 0.2974\n",
      "Epoch 14/20\n",
      "50000/50000 [==============================] - 32s 635us/step - loss: 1.6573 - acc: 0.4096 - val_loss: 1.9395 - val_acc: 0.3276\n",
      "Epoch 15/20\n",
      "50000/50000 [==============================] - 32s 647us/step - loss: 1.6202 - acc: 0.4217 - val_loss: 1.9640 - val_acc: 0.3169\n",
      "Epoch 16/20\n",
      "50000/50000 [==============================] - 32s 631us/step - loss: 1.5906 - acc: 0.4344 - val_loss: 1.9728 - val_acc: 0.3130\n",
      "Epoch 17/20\n",
      "50000/50000 [==============================] - 32s 641us/step - loss: 1.5588 - acc: 0.4458 - val_loss: 1.9857 - val_acc: 0.3160\n",
      "Epoch 18/20\n",
      "50000/50000 [==============================] - 32s 634us/step - loss: 1.5208 - acc: 0.4600 - val_loss: 1.9952 - val_acc: 0.3142\n",
      "Epoch 19/20\n",
      "50000/50000 [==============================] - 32s 633us/step - loss: 1.4795 - acc: 0.4747 - val_loss: 2.0188 - val_acc: 0.3218\n",
      "Epoch 20/20\n",
      "50000/50000 [==============================] - 31s 629us/step - loss: 1.4391 - acc: 0.4884 - val_loss: 2.0898 - val_acc: 0.3128\n"
     ]
    },
    {
     "data": {
      "text/plain": [
       "<keras.callbacks.History at 0x255f8bb2128>"
      ]
     },
     "execution_count": 22,
     "metadata": {},
     "output_type": "execute_result"
    }
   ],
   "source": [
    "model.fit(x_train, y_train, \n",
    "          epochs=EPOCHS, \n",
    "          batch_size=BATCH_SIZE, \n",
    "          validation_data=(x_test, y_test), \n",
    "          shuffle=True)"
   ]
  },
  {
   "cell_type": "code",
   "execution_count": 23,
   "metadata": {},
   "outputs": [
    {
     "data": {
      "image/png": "[encoded data removed]",
      "text/plain": [
       "<Figure size 432x288 with 1 Axes>"
      ]
     },
     "metadata": {
      "needs_background": "light"
     },
     "output_type": "display_data"
    },
    {
     "data": {
      "image/png": "[encoded data removed]",
      "text/plain": [
       "<Figure size 432x288 with 1 Axes>"
      ]
     },
     "metadata": {
      "needs_background": "light"
     },
     "output_type": "display_data"
    }
   ],
   "source": [
    "import matplotlib.pyplot as plt\n",
    "\n",
    "\n",
    "train_loss = model.history.history[\"loss\"]\n",
    "valid_loss = model.history.history[\"val_loss\"]\n",
    "\n",
    "train_acc = model.history.history[\"acc\"]\n",
    "valid_acc = model.history.history[\"val_acc\"]\n",
    "\n",
    "plt.plot(range(len(train_loss)), train_loss, label=\"train loss\")\n",
    "plt.plot(range(len(valid_loss)), valid_loss, label=\"valid loss\")\n",
    "plt.legend()\n",
    "plt.title(\"Loss\")\n",
    "plt.show()\n",
    "\n",
    "plt.plot(range(len(train_acc)), train_acc, label=\"train accuracy\")\n",
    "plt.plot(range(len(valid_acc)), valid_acc, label=\"valid accuracy\")\n",
    "plt.legend()\n",
    "plt.title(\"Accuracy\")\n",
    "plt.show()"
   ]
  },
  {
   "cell_type": "code",
   "execution_count": null,
   "metadata": {},
   "outputs": [],
   "source": []
  }
 ],
 "metadata": {
  "kernelspec": {
   "display_name": "Python 3",
   "language": "python",
   "name": "python3"
  },
  "language_info": {
   "codemirror_mode": {
    "name": "ipython",
    "version": 3
   },
   "file_extension": ".py",
   "mimetype": "text/x-python",
   "name": "python",
   "nbconvert_exporter": "python",
   "pygments_lexer": "ipython3",
   "version": "3.7.1"
  }
 },
 "nbformat": 4,
 "nbformat_minor": 2
}
