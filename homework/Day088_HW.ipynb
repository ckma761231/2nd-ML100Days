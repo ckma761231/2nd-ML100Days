{
 "cells": [
  {
   "cell_type": "markdown",
   "metadata": {},
   "source": [
    "## Work\n",
    "1. 請嘗試寫一個 callback 用來記錄各類別在訓練過程中，對驗證集的 True Positive 與 True Negative"
   ]
  },
  {
   "cell_type": "code",
   "execution_count": 9,
   "metadata": {},
   "outputs": [],
   "source": [
    "import os\n",
    "import keras\n",
    "import numpy as np\n",
    "\n",
    "# Disable GPU\n",
    "os.environ[\"CUDA_VISIBLE_DEVICES\"] = \"無\""
   ]
  },
  {
   "cell_type": "code",
   "execution_count": 2,
   "metadata": {},
   "outputs": [],
   "source": [
    "train, test = keras.datasets.cifar10.load_data()"
   ]
  },
  {
   "cell_type": "code",
   "execution_count": 3,
   "metadata": {},
   "outputs": [],
   "source": [
    "## 資料前處理\n",
    "def preproc_x(x, flatten=True):\n",
    "    x = x / 255.\n",
    "    if flatten:\n",
    "        x = x.reshape((len(x), -1))\n",
    "    return x\n",
    "\n",
    "def preproc_y(y, num_classes=10):\n",
    "    if y.shape[-1] == 1:\n",
    "        y = keras.utils.to_categorical(y, num_classes)\n",
    "    return y    "
   ]
  },
  {
   "cell_type": "code",
   "execution_count": 4,
   "metadata": {},
   "outputs": [],
   "source": [
    "x_train, y_train = train\n",
    "x_test, y_test = test\n",
    "\n",
    "# Preproc the inputs\n",
    "x_train = preproc_x(x_train)\n",
    "x_test = preproc_x(x_test)\n",
    "\n",
    "# Preprc the outputs\n",
    "y_train = preproc_y(y_train)\n",
    "y_test = preproc_y(y_test)"
   ]
  },
  {
   "cell_type": "code",
   "execution_count": 5,
   "metadata": {},
   "outputs": [],
   "source": [
    "from keras.layers import BatchNormalization\n",
    "\n",
    "def build_mlp(input_shape, output_units=10, num_neurons=[512, 256, 128]):\n",
    "    input_layer = keras.layers.Input(input_shape)\n",
    "    for i, n_units in enumerate(num_neurons):\n",
    "        if i == 0:\n",
    "            x = keras.layers.Dense(units=n_units, \n",
    "                                   activation=\"relu\", \n",
    "                                   name=\"hidden_layer\"+str(i+1))(input_layer)\n",
    "            x = BatchNormalization()(x)\n",
    "        else:\n",
    "            x = keras.layers.Dense(units=n_units, \n",
    "                                   activation=\"relu\", \n",
    "                                   name=\"hidden_layer\"+str(i+1))(x)\n",
    "            x = BatchNormalization()(x)\n",
    "    \n",
    "    out = keras.layers.Dense(units=output_units, activation=\"softmax\", name=\"output\")(x)\n",
    "    model = keras.models.Model(inputs=[input_layer], outputs=[out])\n",
    "    \n",
    "    return model"
   ]
  },
  {
   "cell_type": "code",
   "execution_count": 6,
   "metadata": {},
   "outputs": [],
   "source": [
    "## 超參數設定\n",
    "LEARNING_RATE = 1e-3\n",
    "EPOCHS = 25\n",
    "BATCH_SIZE = 1024\n",
    "MOMENTUM = 0.95"
   ]
  },
  {
   "cell_type": "code",
   "execution_count": 7,
   "metadata": {},
   "outputs": [],
   "source": [
    "# 載入 Callbacks\n",
    "from keras.callbacks import Callback\n",
    "from sklearn.metrics import confusion_matrix\n",
    "\n",
    "# Record_tp_tn\n",
    "class Record_tp_tn(Callback):\n",
    "                \n",
    "    #Record true positive & true negative of class_0 \n",
    "    def on_epoch_end(self, epoch, logs = {}):\n",
    "        logs = logs or {}\n",
    "        y_true = self.validation_data[1].argmax(axis = 1)\n",
    "        y_pred = self.model.predict(self.validation_data[0]).argmax(axis = 1)\n",
    "        \n",
    "        cm = confusion_matrix(y_true, y_pred, labels=np.arange(10))\n",
    "        TP = cm[0, 0]\n",
    "        TN = cm.sum() - cm[0, :].sum() - cm[:, 0].sum() + TP\n",
    "        logs['val_tn'], logs['val_tp'] = TN, TP\n",
    "\n",
    "rec_tptn = Record_tp_tn()"
   ]
  },
  {
   "cell_type": "code",
   "execution_count": 10,
   "metadata": {
    "scrolled": true
   },
   "outputs": [
    {
     "name": "stdout",
     "output_type": "stream",
     "text": [
      "_________________________________________________________________\n",
      "Layer (type)                 Output Shape              Param #   \n",
      "=================================================================\n",
      "input_2 (InputLayer)         (None, 3072)              0         \n",
      "_________________________________________________________________\n",
      "hidden_layer1 (Dense)        (None, 512)               1573376   \n",
      "_________________________________________________________________\n",
      "batch_normalization_4 (Batch (None, 512)               2048      \n",
      "_________________________________________________________________\n",
      "hidden_layer2 (Dense)        (None, 256)               131328    \n",
      "_________________________________________________________________\n",
      "batch_normalization_5 (Batch (None, 256)               1024      \n",
      "_________________________________________________________________\n",
      "hidden_layer3 (Dense)        (None, 128)               32896     \n",
      "_________________________________________________________________\n",
      "batch_normalization_6 (Batch (None, 128)               512       \n",
      "_________________________________________________________________\n",
      "output (Dense)               (None, 10)                1290      \n",
      "=================================================================\n",
      "Total params: 1,742,474\n",
      "Trainable params: 1,740,682\n",
      "Non-trainable params: 1,792\n",
      "_________________________________________________________________\n",
      "Train on 50000 samples, validate on 10000 samples\n",
      "Epoch 1/25\n",
      "50000/50000 [==============================] - 33s 655us/step - loss: 2.2082 - acc: 0.2681 - val_loss: 2.1612 - val_acc: 0.3150\n",
      "Epoch 2/25\n",
      "50000/50000 [==============================] - 22s 445us/step - loss: 1.7463 - acc: 0.3930 - val_loss: 1.8181 - val_acc: 0.3702\n",
      "Epoch 3/25\n",
      "50000/50000 [==============================] - 23s 453us/step - loss: 1.6232 - acc: 0.4331 - val_loss: 1.7033 - val_acc: 0.4081\n",
      "Epoch 4/25\n",
      "50000/50000 [==============================] - 23s 462us/step - loss: 1.5495 - acc: 0.4583 - val_loss: 1.6352 - val_acc: 0.4248\n",
      "Epoch 5/25\n",
      "50000/50000 [==============================] - 23s 465us/step - loss: 1.4931 - acc: 0.4780 - val_loss: 1.6172 - val_acc: 0.4269\n",
      "Epoch 6/25\n",
      "50000/50000 [==============================] - 22s 444us/step - loss: 1.4472 - acc: 0.4948 - val_loss: 1.5927 - val_acc: 0.4426\n",
      "Epoch 7/25\n",
      "50000/50000 [==============================] - 23s 453us/step - loss: 1.4079 - acc: 0.5096 - val_loss: 1.5560 - val_acc: 0.4525\n",
      "Epoch 8/25\n",
      "50000/50000 [==============================] - 25s 490us/step - loss: 1.3723 - acc: 0.5227 - val_loss: 1.5481 - val_acc: 0.4531\n",
      "Epoch 9/25\n",
      "50000/50000 [==============================] - 23s 459us/step - loss: 1.3392 - acc: 0.5342 - val_loss: 1.5336 - val_acc: 0.4625\n",
      "Epoch 10/25\n",
      "50000/50000 [==============================] - 23s 451us/step - loss: 1.3090 - acc: 0.5438 - val_loss: 1.5133 - val_acc: 0.4676\n",
      "Epoch 11/25\n",
      "50000/50000 [==============================] - 23s 455us/step - loss: 1.2802 - acc: 0.5546 - val_loss: 1.5044 - val_acc: 0.4727\n",
      "Epoch 12/25\n",
      "50000/50000 [==============================] - 23s 461us/step - loss: 1.2524 - acc: 0.5643 - val_loss: 1.4998 - val_acc: 0.4731\n",
      "Epoch 13/25\n",
      "50000/50000 [==============================] - 36s 712us/step - loss: 1.2260 - acc: 0.5759 - val_loss: 1.4888 - val_acc: 0.4790\n",
      "Epoch 14/25\n",
      "50000/50000 [==============================] - 43s 853us/step - loss: 1.2000 - acc: 0.5844 - val_loss: 1.5021 - val_acc: 0.4710\n",
      "Epoch 15/25\n",
      "50000/50000 [==============================] - 41s 811us/step - loss: 1.1754 - acc: 0.5934 - val_loss: 1.4860 - val_acc: 0.4798\n",
      "Epoch 16/25\n",
      "50000/50000 [==============================] - 43s 851us/step - loss: 1.1520 - acc: 0.6043 - val_loss: 1.4770 - val_acc: 0.4835\n",
      "Epoch 17/25\n",
      "50000/50000 [==============================] - 40s 805us/step - loss: 1.1283 - acc: 0.6126 - val_loss: 1.4824 - val_acc: 0.4849\n",
      "Epoch 18/25\n",
      "50000/50000 [==============================] - 43s 863us/step - loss: 1.1058 - acc: 0.6200 - val_loss: 1.4713 - val_acc: 0.4855\n",
      "Epoch 19/25\n",
      "50000/50000 [==============================] - 41s 827us/step - loss: 1.0832 - acc: 0.6294 - val_loss: 1.4729 - val_acc: 0.4874\n",
      "Epoch 20/25\n",
      "50000/50000 [==============================] - 42s 841us/step - loss: 1.0609 - acc: 0.6386 - val_loss: 1.4696 - val_acc: 0.4909\n",
      "Epoch 21/25\n",
      "50000/50000 [==============================] - 41s 830us/step - loss: 1.0403 - acc: 0.6464 - val_loss: 1.4777 - val_acc: 0.4871\n",
      "Epoch 22/25\n",
      "50000/50000 [==============================] - 42s 847us/step - loss: 1.0194 - acc: 0.6528 - val_loss: 1.4678 - val_acc: 0.4906\n",
      "Epoch 23/25\n",
      "50000/50000 [==============================] - 41s 826us/step - loss: 0.9990 - acc: 0.6622 - val_loss: 1.4749 - val_acc: 0.4917\n",
      "Epoch 24/25\n",
      "50000/50000 [==============================] - 42s 849us/step - loss: 0.9768 - acc: 0.6707 - val_loss: 1.4776 - val_acc: 0.4899\n",
      "Epoch 25/25\n",
      "50000/50000 [==============================] - 41s 818us/step - loss: 0.9554 - acc: 0.6798 - val_loss: 1.4818 - val_acc: 0.4852\n"
     ]
    }
   ],
   "source": [
    "\n",
    "model = build_mlp(input_shape=x_train.shape[1:])\n",
    "model.summary()\n",
    "optimizer = keras.optimizers.SGD(lr=LEARNING_RATE, nesterov=True, momentum=MOMENTUM)\n",
    "model.compile(loss=\"categorical_crossentropy\", metrics=[\"accuracy\"], optimizer=optimizer)\n",
    "\n",
    "model.fit(x_train, y_train, \n",
    "          epochs=EPOCHS, \n",
    "          batch_size=BATCH_SIZE, \n",
    "          validation_data=(x_test, y_test), \n",
    "          shuffle=True,\n",
    "          callbacks=[rec_tptn]\n",
    "         )\n",
    "\n",
    "# Collect results\n",
    "train_loss = model.history.history[\"loss\"]\n",
    "valid_loss = model.history.history[\"val_loss\"]\n",
    "train_acc = model.history.history[\"acc\"]\n",
    "valid_acc = model.history.history[\"val_acc\"]\n",
    "\n",
    "valid_tp = model.history.history['val_tp']\n",
    "valid_tn = model.history.history['val_tn']"
   ]
  },
  {
   "cell_type": "code",
   "execution_count": 11,
   "metadata": {},
   "outputs": [
    {
     "data": {
      "image/png": "[encoded data removed]",
      "text/plain": [
       "<Figure size 432x288 with 1 Axes>"
      ]
     },
     "metadata": {
      "needs_background": "light"
     },
     "output_type": "display_data"
    },
    {
     "data": {
      "image/png": "[encoded data removed]",
      "text/plain": [
       "<Figure size 432x288 with 1 Axes>"
      ]
     },
     "metadata": {
      "needs_background": "light"
     },
     "output_type": "display_data"
    },
    {
     "data": {
      "image/png": "[encoded data removed]",
      "text/plain": [
       "<Figure size 432x288 with 1 Axes>"
      ]
     },
     "metadata": {
      "needs_background": "light"
     },
     "output_type": "display_data"
    }
   ],
   "source": [
    "import matplotlib.pyplot as plt\n",
    "%matplotlib inline\n",
    "\n",
    "plt.plot(range(len(train_loss)), train_loss, label=\"train loss\")\n",
    "plt.plot(range(len(valid_loss)), valid_loss, label=\"valid loss\")\n",
    "plt.legend()\n",
    "plt.title(\"Loss\")\n",
    "plt.show()\n",
    "\n",
    "plt.plot(range(len(train_acc)), train_acc, label=\"train accuracy\")\n",
    "plt.plot(range(len(valid_acc)), valid_acc, label=\"valid accuracy\")\n",
    "plt.legend()\n",
    "plt.title(\"Accuracy\")\n",
    "plt.show()\n",
    "\n",
    "plt.plot(range(len(valid_tp)), valid_tp, label=\"valid tp\", color=\"navy\")\n",
    "plt.plot(range(len(valid_tn)), valid_tn, label=\"valid tn\", color=\"red\")\n",
    "plt.legend()\n",
    "plt.title(\"True positives and True Negatives\")\n",
    "plt.show()\n"
   ]
  },
  {
   "cell_type": "code",
   "execution_count": null,
   "metadata": {},
   "outputs": [],
   "source": []
  }
 ],
 "metadata": {
  "kernelspec": {
   "display_name": "Python 3",
   "language": "python",
   "name": "python3"
  },
  "language_info": {
   "codemirror_mode": {
    "name": "ipython",
    "version": 3
   },
   "file_extension": ".py",
   "mimetype": "text/x-python",
   "name": "python",
   "nbconvert_exporter": "python",
   "pygments_lexer": "ipython3",
   "version": "3.7.1"
  }
 },
 "nbformat": 4,
 "nbformat_minor": 2
}
