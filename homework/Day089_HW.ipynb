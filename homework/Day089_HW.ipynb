{
 "cells": [
  {
   "cell_type": "markdown",
   "metadata": {},
   "source": [
    "## Work\n",
    "1. 請自行定義一個 loss function, 為 0.3 * focal loss + 0.7 cross-entropy，訓練並比較結果\n"
   ]
  },
  {
   "cell_type": "code",
   "execution_count": 1,
   "metadata": {},
   "outputs": [
    {
     "name": "stderr",
     "output_type": "stream",
     "text": [
      "Using TensorFlow backend.\n"
     ]
    }
   ],
   "source": [
    "import os\n",
    "import keras\n",
    "\n",
    "# Disable GPU\n",
    "os.environ[\"CUDA_VISIBLE_DEVICES\"] = \"\""
   ]
  },
  {
   "cell_type": "code",
   "execution_count": 2,
   "metadata": {},
   "outputs": [],
   "source": [
    "train, test = keras.datasets.cifar10.load_data()"
   ]
  },
  {
   "cell_type": "code",
   "execution_count": 15,
   "metadata": {},
   "outputs": [],
   "source": [
    "## 資料前處理\n",
    "def preproc_x(x, flatten=True):\n",
    "    x = x / 255.\n",
    "    if flatten:\n",
    "        x = x.reshape((len(x), -1))\n",
    "    return x\n",
    "\n",
    "def preproc_y(y, num_classes=10):\n",
    "    if y.shape[-1] == 1:\n",
    "        y = keras.utils.to_categorical(y, num_classes)\n",
    "    return y"
   ]
  },
  {
   "cell_type": "code",
   "execution_count": 5,
   "metadata": {},
   "outputs": [],
   "source": [
    "x_train, y_train = train\n",
    "x_test, y_test = test\n",
    "\n",
    "# Preproc the inputs\n",
    "x_train = preproc_x(x_train)\n",
    "x_test = preproc_x(x_test)\n",
    "\n",
    "# Preprc the outputs\n",
    "y_train = preproc_y(y_train)\n",
    "y_test = preproc_y(y_test)"
   ]
  },
  {
   "cell_type": "code",
   "execution_count": 16,
   "metadata": {},
   "outputs": [],
   "source": [
    "from keras.layers import BatchNormalization\n",
    "def build_mlp(input_shape, output_units=10, num_neurons=[512, 256, 128]):\n",
    "    \"\"\"Code Here\n",
    "    建立你的神經網路\n",
    "    \"\"\"\n",
    "    input_layer = keras.layers.Input(input_shape)\n",
    "    \n",
    "    for i, n_units in enumerate(num_neurons):\n",
    "        if i == 0:\n",
    "            x = keras.layers.Dense(units=n_units, \n",
    "                                   activation=\"relu\", \n",
    "                                   name=\"hidden_layer\"+str(i+1))(input_layer)\n",
    "            x = BatchNormalization()(x)\n",
    "        else:\n",
    "            x = keras.layers.Dense(units=n_units, \n",
    "                                   activation=\"relu\", \n",
    "                                   name=\"hidden_layer\"+str(i+1))(x)\n",
    "            x = BatchNormalization()(x)\n",
    "    \n",
    "    out = keras.layers.Dense(units=output_units, activation=\"softmax\", name=\"output\")(x)\n",
    "    \n",
    "    model = keras.models.Model(inputs=[input_layer], outputs=[out])\n",
    "    return model"
   ]
  },
  {
   "cell_type": "code",
   "execution_count": 17,
   "metadata": {},
   "outputs": [],
   "source": [
    "## 超參數設定\n",
    "LEARNING_RATE = 1e-3\n",
    "EPOCHS = 25\n",
    "BATCH_SIZE = 1024\n",
    "MOMENTUM = 0.95"
   ]
  },
  {
   "cell_type": "code",
   "execution_count": 18,
   "metadata": {},
   "outputs": [],
   "source": [
    "import tensorflow as tf\n",
    "import keras.backend as K\n",
    "\"\"\"\n",
    "# 撰寫自定義的 loss function: focal loss (https://blog.csdn.net/u014380165/article/details/77019084)\n",
    "\"\"\"\n",
    "def focal_loss(gamma=2., alpha=4.):\n",
    "    gamma = float(gamma)\n",
    "    alpha = float(alpha)\n",
    "    def focal_loss_fixed(y_true, y_pred):\n",
    "        \"\"\"Focal loss for multi-classification\n",
    "        FL(p_t)=-alpha(1-p_t)^{gamma}ln(p_t)\n",
    "        \"\"\"\n",
    "        epsilon = 1e-8\n",
    "        y_true = tf.convert_to_tensor(y_true, tf.float32)\n",
    "        y_pred = tf.convert_to_tensor(y_pred, tf.float32)\n",
    "\n",
    "        model_out = tf.add(y_pred, epsilon)\n",
    "        ce = tf.multiply(y_true, -tf.log(model_out))\n",
    "        weight = tf.multiply(y_true, tf.pow(tf.subtract(1., model_out), gamma))\n",
    "        fl = tf.multiply(alpha, tf.multiply(weight, ce))\n",
    "        reduced_fl = tf.reduce_max(fl, axis=1)\n",
    "        return tf.reduce_mean(reduced_fl)\n",
    "    return focal_loss_fixed\n",
    "\n",
    "ce_weights_list = [10, 20]"
   ]
  },
  {
   "cell_type": "code",
   "execution_count": 19,
   "metadata": {
    "scrolled": true
   },
   "outputs": [
    {
     "name": "stdout",
     "output_type": "stream",
     "text": [
      "Numbers of exp: 0, ce_weight: 10.00\n",
      "_________________________________________________________________\n",
      "Layer (type)                 Output Shape              Param #   \n",
      "=================================================================\n",
      "input_3 (InputLayer)         (None, 3072)              0         \n",
      "_________________________________________________________________\n",
      "hidden_layer1 (Dense)        (None, 512)               1573376   \n",
      "_________________________________________________________________\n",
      "batch_normalization_7 (Batch (None, 512)               2048      \n",
      "_________________________________________________________________\n",
      "hidden_layer2 (Dense)        (None, 256)               131328    \n",
      "_________________________________________________________________\n",
      "batch_normalization_8 (Batch (None, 256)               1024      \n",
      "_________________________________________________________________\n",
      "hidden_layer3 (Dense)        (None, 128)               32896     \n",
      "_________________________________________________________________\n",
      "batch_normalization_9 (Batch (None, 128)               512       \n",
      "_________________________________________________________________\n",
      "output (Dense)               (None, 10)                1290      \n",
      "=================================================================\n",
      "Total params: 1,742,474\n",
      "Trainable params: 1,740,682\n",
      "Non-trainable params: 1,792\n",
      "_________________________________________________________________\n",
      "WARNING:tensorflow:From D:\\anaconda3\\lib\\site-packages\\tensorflow\\python\\ops\\math_ops.py:3066: to_int32 (from tensorflow.python.ops.math_ops) is deprecated and will be removed in a future version.\n",
      "Instructions for updating:\n",
      "Use tf.cast instead.\n",
      "WARNING:tensorflow:From D:\\anaconda3\\lib\\site-packages\\tensorflow\\python\\ops\\math_grad.py:102: div (from tensorflow.python.ops.math_ops) is deprecated and will be removed in a future version.\n",
      "Instructions for updating:\n",
      "Deprecated in favor of operator or tf.math.divide.\n",
      "Train on 50000 samples, validate on 10000 samples\n",
      "Epoch 1/25\n",
      "50000/50000 [==============================] - 56s 1ms/step - loss: 5.9931 - acc: 0.3321 - val_loss: 6.0973 - val_acc: 0.3233\n",
      "Epoch 2/25\n",
      "50000/50000 [==============================] - 26s 512us/step - loss: 4.4014 - acc: 0.4407 - val_loss: 4.7272 - val_acc: 0.4053\n",
      "Epoch 3/25\n",
      "50000/50000 [==============================] - 26s 513us/step - loss: 3.9950 - acc: 0.4797 - val_loss: 4.3352 - val_acc: 0.4341\n",
      "Epoch 4/25\n",
      "50000/50000 [==============================] - 22s 446us/step - loss: 3.7258 - acc: 0.5051 - val_loss: 4.2638 - val_acc: 0.4498\n",
      "Epoch 5/25\n",
      "50000/50000 [==============================] - 23s 455us/step - loss: 3.5142 - acc: 0.5257 - val_loss: 4.2138 - val_acc: 0.4559\n",
      "Epoch 6/25\n",
      "50000/50000 [==============================] - 43s 868us/step - loss: 3.3289 - acc: 0.5459 - val_loss: 3.9498 - val_acc: 0.4743\n",
      "Epoch 7/25\n",
      "50000/50000 [==============================] - 42s 831us/step - loss: 3.1563 - acc: 0.5632 - val_loss: 3.9914 - val_acc: 0.4715\n",
      "Epoch 8/25\n",
      "50000/50000 [==============================] - 43s 859us/step - loss: 3.0085 - acc: 0.5789 - val_loss: 3.9012 - val_acc: 0.4824\n",
      "Epoch 9/25\n",
      "50000/50000 [==============================] - 43s 860us/step - loss: 2.8701 - acc: 0.5942 - val_loss: 3.9074 - val_acc: 0.4830\n",
      "Epoch 10/25\n",
      "50000/50000 [==============================] - 58s 1ms/step - loss: 2.7226 - acc: 0.6099 - val_loss: 3.9510 - val_acc: 0.4866\n",
      "Epoch 11/25\n",
      "50000/50000 [==============================] - 56s 1ms/step - loss: 2.5956 - acc: 0.6238 - val_loss: 4.1134 - val_acc: 0.4676\n",
      "Epoch 12/25\n",
      "50000/50000 [==============================] - 51s 1ms/step - loss: 2.4650 - acc: 0.6397 - val_loss: 3.9052 - val_acc: 0.4873\n",
      "Epoch 13/25\n",
      "50000/50000 [==============================] - 47s 930us/step - loss: 2.3397 - acc: 0.6545 - val_loss: 3.9180 - val_acc: 0.4943\n",
      "Epoch 14/25\n",
      "50000/50000 [==============================] - 43s 859us/step - loss: 2.2115 - acc: 0.6703 - val_loss: 4.1022 - val_acc: 0.4675\n",
      "Epoch 15/25\n",
      "50000/50000 [==============================] - 43s 850us/step - loss: 2.0936 - acc: 0.6843 - val_loss: 4.1156 - val_acc: 0.4782\n",
      "Epoch 16/25\n",
      "50000/50000 [==============================] - 45s 902us/step - loss: 1.9789 - acc: 0.6986 - val_loss: 4.0611 - val_acc: 0.4856\n",
      "Epoch 17/25\n",
      "50000/50000 [==============================] - 42s 830us/step - loss: 1.8625 - acc: 0.7129 - val_loss: 4.0184 - val_acc: 0.4878\n",
      "Epoch 18/25\n",
      "50000/50000 [==============================] - 44s 882us/step - loss: 1.7463 - acc: 0.7255 - val_loss: 4.0877 - val_acc: 0.4905\n",
      "Epoch 19/25\n",
      "50000/50000 [==============================] - 42s 840us/step - loss: 1.6410 - acc: 0.7394 - val_loss: 4.2737 - val_acc: 0.4757\n",
      "Epoch 20/25\n",
      "50000/50000 [==============================] - 43s 855us/step - loss: 1.5422 - acc: 0.7511 - val_loss: 4.2320 - val_acc: 0.4901\n",
      "Epoch 21/25\n",
      "50000/50000 [==============================] - 42s 831us/step - loss: 1.4342 - acc: 0.7662 - val_loss: 4.5816 - val_acc: 0.4661\n",
      "Epoch 22/25\n",
      "50000/50000 [==============================] - 43s 861us/step - loss: 1.3351 - acc: 0.7795 - val_loss: 4.3512 - val_acc: 0.4789\n",
      "Epoch 23/25\n",
      "50000/50000 [==============================] - 42s 843us/step - loss: 1.2500 - acc: 0.7913 - val_loss: 4.5280 - val_acc: 0.4744\n",
      "Epoch 24/25\n",
      "50000/50000 [==============================] - 44s 882us/step - loss: 1.1613 - acc: 0.8046 - val_loss: 4.5453 - val_acc: 0.4807\n",
      "Epoch 25/25\n",
      "50000/50000 [==============================] - 43s 853us/step - loss: 1.0667 - acc: 0.8201 - val_loss: 4.5987 - val_acc: 0.4763\n",
      "Numbers of exp: 1, ce_weight: 20.00\n",
      "_________________________________________________________________\n",
      "Layer (type)                 Output Shape              Param #   \n",
      "=================================================================\n",
      "input_4 (InputLayer)         (None, 3072)              0         \n",
      "_________________________________________________________________\n",
      "hidden_layer1 (Dense)        (None, 512)               1573376   \n",
      "_________________________________________________________________\n",
      "batch_normalization_10 (Batc (None, 512)               2048      \n",
      "_________________________________________________________________\n",
      "hidden_layer2 (Dense)        (None, 256)               131328    \n",
      "_________________________________________________________________\n",
      "batch_normalization_11 (Batc (None, 256)               1024      \n",
      "_________________________________________________________________\n",
      "hidden_layer3 (Dense)        (None, 128)               32896     \n",
      "_________________________________________________________________\n",
      "batch_normalization_12 (Batc (None, 128)               512       \n",
      "_________________________________________________________________\n",
      "output (Dense)               (None, 10)                1290      \n",
      "=================================================================\n",
      "Total params: 1,742,474\n",
      "Trainable params: 1,740,682\n",
      "Non-trainable params: 1,792\n",
      "_________________________________________________________________\n",
      "Train on 50000 samples, validate on 10000 samples\n",
      "Epoch 1/25\n",
      "50000/50000 [==============================] - 61s 1ms/step - loss: 6.1286 - acc: 0.3288 - val_loss: 6.0291 - val_acc: 0.3491\n",
      "Epoch 2/25\n",
      "50000/50000 [==============================] - 42s 834us/step - loss: 4.3967 - acc: 0.4469 - val_loss: 4.6415 - val_acc: 0.4125\n",
      "Epoch 3/25\n",
      "50000/50000 [==============================] - 43s 851us/step - loss: 3.9790 - acc: 0.4848 - val_loss: 4.3759 - val_acc: 0.4438\n",
      "Epoch 4/25\n",
      "50000/50000 [==============================] - 42s 837us/step - loss: 3.7111 - acc: 0.5095 - val_loss: 4.1867 - val_acc: 0.4581\n",
      "Epoch 5/25\n",
      "50000/50000 [==============================] - 43s 867us/step - loss: 3.4933 - acc: 0.5310 - val_loss: 4.1809 - val_acc: 0.4486\n",
      "Epoch 6/25\n",
      "50000/50000 [==============================] - 42s 845us/step - loss: 3.3108 - acc: 0.5486 - val_loss: 4.0192 - val_acc: 0.4723\n",
      "Epoch 7/25\n",
      "50000/50000 [==============================] - 45s 894us/step - loss: 3.1288 - acc: 0.5685 - val_loss: 3.9809 - val_acc: 0.4737\n",
      "Epoch 8/25\n",
      "50000/50000 [==============================] - 42s 846us/step - loss: 2.9857 - acc: 0.5833 - val_loss: 4.0504 - val_acc: 0.4677\n",
      "Epoch 9/25\n",
      "50000/50000 [==============================] - 43s 851us/step - loss: 2.8311 - acc: 0.6021 - val_loss: 4.0060 - val_acc: 0.4734\n"
     ]
    },
    {
     "name": "stdout",
     "output_type": "stream",
     "text": [
      "Epoch 10/25\n",
      "50000/50000 [==============================] - 43s 852us/step - loss: 2.6892 - acc: 0.6155 - val_loss: 4.0121 - val_acc: 0.4786\n",
      "Epoch 11/25\n",
      "50000/50000 [==============================] - 46s 921us/step - loss: 2.5610 - acc: 0.6302 - val_loss: 4.0011 - val_acc: 0.4823\n",
      "Epoch 12/25\n",
      "50000/50000 [==============================] - 48s 954us/step - loss: 2.4233 - acc: 0.6444 - val_loss: 3.9039 - val_acc: 0.4813\n",
      "Epoch 13/25\n",
      "50000/50000 [==============================] - 42s 835us/step - loss: 2.2950 - acc: 0.6596 - val_loss: 3.9986 - val_acc: 0.4770\n",
      "Epoch 14/25\n",
      "50000/50000 [==============================] - 44s 880us/step - loss: 2.1735 - acc: 0.6719 - val_loss: 3.9699 - val_acc: 0.4866\n",
      "Epoch 15/25\n",
      "50000/50000 [==============================] - 47s 930us/step - loss: 2.0515 - acc: 0.6879 - val_loss: 4.0565 - val_acc: 0.4769\n",
      "Epoch 16/25\n",
      "50000/50000 [==============================] - 45s 904us/step - loss: 1.9433 - acc: 0.7010 - val_loss: 4.0723 - val_acc: 0.4906\n",
      "Epoch 17/25\n",
      "50000/50000 [==============================] - 41s 812us/step - loss: 1.8134 - acc: 0.7144 - val_loss: 4.1248 - val_acc: 0.4800\n",
      "Epoch 18/25\n",
      "50000/50000 [==============================] - 43s 866us/step - loss: 1.7034 - acc: 0.7308 - val_loss: 4.2593 - val_acc: 0.4794\n",
      "Epoch 19/25\n",
      "50000/50000 [==============================] - 44s 871us/step - loss: 1.6027 - acc: 0.7435 - val_loss: 4.2299 - val_acc: 0.4741\n",
      "Epoch 20/25\n",
      "50000/50000 [==============================] - 44s 881us/step - loss: 1.4879 - acc: 0.7583 - val_loss: 4.3596 - val_acc: 0.4806\n",
      "Epoch 21/25\n",
      "50000/50000 [==============================] - 42s 841us/step - loss: 1.3831 - acc: 0.7725 - val_loss: 4.4947 - val_acc: 0.4679\n",
      "Epoch 22/25\n",
      "50000/50000 [==============================] - 45s 891us/step - loss: 1.2825 - acc: 0.7863 - val_loss: 4.4143 - val_acc: 0.4781\n",
      "Epoch 23/25\n",
      "50000/50000 [==============================] - 43s 859us/step - loss: 1.1894 - acc: 0.7989 - val_loss: 4.6206 - val_acc: 0.4685\n",
      "Epoch 24/25\n",
      "50000/50000 [==============================] - 45s 902us/step - loss: 1.0999 - acc: 0.8122 - val_loss: 4.6146 - val_acc: 0.4765\n",
      "Epoch 25/25\n",
      "50000/50000 [==============================] - 41s 830us/step - loss: 1.0044 - acc: 0.8279 - val_loss: 4.6547 - val_acc: 0.4767\n"
     ]
    }
   ],
   "source": [
    "import itertools\n",
    "results = {}\n",
    "\n",
    "for i, ce_w in enumerate(ce_weights_list):\n",
    "    print(\"Numbers of exp: %i, ce_weight: %.2f\" % (i, ce_w))\n",
    "\n",
    "    model = build_mlp(input_shape=x_train.shape[1:])\n",
    "    model.summary()\n",
    "    optimizer = keras.optimizers.SGD(lr=LEARNING_RATE, nesterov=True, momentum=MOMENTUM)\n",
    "    \"\"\"Code Here\n",
    "    將自定義的 loss function 加入模型\n",
    "    \"\"\"\n",
    "    model.compile(loss=focal_loss(), metrics=[\"accuracy\"], optimizer=optimizer)\n",
    "\n",
    "    model.fit(x_train, y_train, \n",
    "              epochs=EPOCHS, \n",
    "              batch_size=BATCH_SIZE, \n",
    "              validation_data=(x_test, y_test), \n",
    "              shuffle=True\n",
    "             )\n",
    "    \n",
    "    # Collect results\n",
    "    exp_name_tag = (\"exp-%s\" % (i))\n",
    "    results[exp_name_tag] = {'train-loss': model.history.history[\"loss\"],\n",
    "                             'valid-loss': model.history.history[\"val_loss\"],\n",
    "                             'train-acc': model.history.history[\"acc\"],\n",
    "                             'valid-acc': model.history.history[\"val_acc\"]}"
   ]
  },
  {
   "cell_type": "code",
   "execution_count": 20,
   "metadata": {},
   "outputs": [
    {
     "data": {
      "image/png": "[encoded data removed]",
      "text/plain": [
       "<Figure size 576x432 with 1 Axes>"
      ]
     },
     "metadata": {
      "needs_background": "light"
     },
     "output_type": "display_data"
    },
    {
     "data": {
      "image/png": "[encoded data removed]",
      "text/plain": [
       "<Figure size 576x432 with 1 Axes>"
      ]
     },
     "metadata": {
      "needs_background": "light"
     },
     "output_type": "display_data"
    }
   ],
   "source": [
    "import matplotlib.pyplot as plt\n",
    "import matplotlib.cm as mplcm\n",
    "import matplotlib.colors as colors\n",
    "%matplotlib inline\n",
    "NUM_COLORS = len(results.keys())\n",
    "\n",
    "cm = plt.get_cmap('gist_rainbow')\n",
    "cNorm  = colors.Normalize(vmin=0, vmax=NUM_COLORS-1)\n",
    "scalarMap = mplcm.ScalarMappable(norm=cNorm, cmap=cm)\n",
    "color_bar = [scalarMap.to_rgba(i) for i in range(NUM_COLORS)]\n",
    "\n",
    "plt.figure(figsize=(8,6))\n",
    "for i, cond in enumerate(results.keys()):\n",
    "    plt.plot(range(len(results[cond]['train-loss'])),results[cond]['train-loss'], '-', label=cond, color=color_bar[i])\n",
    "    plt.plot(range(len(results[cond]['valid-loss'])),results[cond]['valid-loss'], '--', label=cond, color=color_bar[i])\n",
    "plt.title(\"Loss\")\n",
    "plt.legend(loc='center left', bbox_to_anchor=(1, 0.5))\n",
    "plt.show()\n",
    "\n",
    "plt.figure(figsize=(8,6))\n",
    "for i, cond in enumerate(results.keys()):\n",
    "    plt.plot(range(len(results[cond]['train-acc'])),results[cond]['train-acc'], '-', label=cond, color=color_bar[i])\n",
    "    plt.plot(range(len(results[cond]['valid-acc'])),results[cond]['valid-acc'], '--', label=cond, color=color_bar[i])\n",
    "plt.title(\"Accuracy\")\n",
    "plt.legend(loc='center left', bbox_to_anchor=(1, 0.5))\n",
    "plt.show()"
   ]
  },
  {
   "cell_type": "code",
   "execution_count": null,
   "metadata": {},
   "outputs": [],
   "source": []
  }
 ],
 "metadata": {
  "kernelspec": {
   "display_name": "Python 3",
   "language": "python",
   "name": "python3"
  },
  "language_info": {
   "codemirror_mode": {
    "name": "ipython",
    "version": 3
   },
   "file_extension": ".py",
   "mimetype": "text/x-python",
   "name": "python",
   "nbconvert_exporter": "python",
   "pygments_lexer": "ipython3",
   "version": "3.7.1"
  }
 },
 "nbformat": 4,
 "nbformat_minor": 2
}
